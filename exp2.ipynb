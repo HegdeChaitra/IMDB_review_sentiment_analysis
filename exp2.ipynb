{
 "cells": [
  {
   "cell_type": "code",
   "execution_count": 294,
   "metadata": {},
   "outputs": [],
   "source": [
    "import pandas as pd\n",
    "import numpy as np\n",
    "import os\n",
    "from sklearn.model_selection import StratifiedShuffleSplit\n",
    "MAX_SENTENCE_LENGTH = 400\n",
    "import nltk\n",
    "import numpy as np\n",
    "import torch\n",
    "from torch.utils.data import Dataset\n",
    "from nltk.stem.porter import *"
   ]
  },
  {
   "cell_type": "code",
   "execution_count": 250,
   "metadata": {},
   "outputs": [],
   "source": [
    "stop_words = [\"i\",\"i\",\"me\",\"my\",\"myself\",\"we\",\"our\",\"ours\",\"ourselves\",\"you\",\"your\",\"yours\",\"yourself\",\"yourselves\",\"he\",\"him\",\"his\",\"himself\",\"she\",\"her\",\"hers\",\"herself\",\"it\",\"its\",\"itself\",\"they\",\"them\",\"their\",\"theirs\",\"themselves\",\"what\",\"which\",\"who\",\"whom\",\"this\",\"that\",\"these\",\"those\",\"am\",\"is\",\"are\",\"was\",\"were\",\"be\",\"been\",\"being\",\"have\",\"has\",\"had\",\"having\",\"do\",\"does\",\"did\",\"doing\",\"a\",\"an\",\"the\",\"and\",\"but\",\"if\",\"or\",\"because\",\"as\",\"until\",\"while\",\"of\",\"at\",\"by\",\"for\",\"with\",\"about\",\"against\",\"between\",\"into\",\"through\",\"during\",\"before\",\"after\",\"to\",\"from\",\"up\",\"down\",\"in\",\"on\",\"off\",\"again\",\"further\",\"then\",\"once\",\"here\",\"there\",\"when\",\"where\",\"why\",\"how\",\"all\",\"any\",\"both\",\"each\",\"few\",\"more\",\"other\",\"some\",\"such\",\"only\",\"own\",\"same\",\"so\",\"than\",\"too\",\"very\",\"s\",\"t\",\"can\",\"will\",\"just\",\"don\",\"should\",\"now\"]"
   ]
  },
  {
   "cell_type": "code",
   "execution_count": 251,
   "metadata": {},
   "outputs": [],
   "source": [
    "import spacy\n",
    "tokenize = spacy.load('en_core_web_sm')\n",
    "stemmer = PorterStemmer()\n"
   ]
  },
  {
   "cell_type": "code",
   "execution_count": 252,
   "metadata": {},
   "outputs": [
    {
     "name": "stdout",
     "output_type": "stream",
     "text": [
      "0.4.1\n"
     ]
    }
   ],
   "source": [
    "import torch\n",
    "print(torch.__version__)"
   ]
  },
  {
   "cell_type": "code",
   "execution_count": 253,
   "metadata": {},
   "outputs": [],
   "source": [
    "path_train_pos = \"/home/cvh255/nlp_hw1/aclImdb/train/pos/\"\n",
    "path_train_neg = \"/home/cvh255/nlp_hw1/aclImdb/train/neg/\""
   ]
  },
  {
   "cell_type": "code",
   "execution_count": 254,
   "metadata": {},
   "outputs": [],
   "source": [
    "train_pos_files = os.listdir(path_train_pos)\n",
    "for f in range(len(train_pos_files)):\n",
    "    train_pos_files[f] = path_train_pos + train_pos_files[f]"
   ]
  },
  {
   "cell_type": "code",
   "execution_count": 255,
   "metadata": {},
   "outputs": [],
   "source": [
    "train_neg_files = os.listdir(path_train_neg)\n",
    "for f in range(len(train_neg_files)):\n",
    "    train_neg_files[f] = path_train_neg + train_neg_files[f]"
   ]
  },
  {
   "cell_type": "code",
   "execution_count": 256,
   "metadata": {},
   "outputs": [],
   "source": [
    "train_pos_labels = [1]*len(train_pos_files)\n",
    "train_neg_labels = [0]*len(train_neg_files)"
   ]
  },
  {
   "cell_type": "code",
   "execution_count": 257,
   "metadata": {},
   "outputs": [],
   "source": [
    "df = pd.DataFrame(columns=[\"file_names\",\"labels\"])\n",
    "df[\"file_names\"] = train_pos_files+train_neg_files\n",
    "df[\"labels\"] = train_pos_labels+train_neg_labels"
   ]
  },
  {
   "cell_type": "code",
   "execution_count": 258,
   "metadata": {},
   "outputs": [
    {
     "data": {
      "text/plain": [
       "(25000, 2)"
      ]
     },
     "execution_count": 258,
     "metadata": {},
     "output_type": "execute_result"
    }
   ],
   "source": [
    "df.shape"
   ]
  },
  {
   "cell_type": "code",
   "execution_count": 259,
   "metadata": {},
   "outputs": [
    {
     "data": {
      "text/html": [
       "<div>\n",
       "<style scoped>\n",
       "    .dataframe tbody tr th:only-of-type {\n",
       "        vertical-align: middle;\n",
       "    }\n",
       "\n",
       "    .dataframe tbody tr th {\n",
       "        vertical-align: top;\n",
       "    }\n",
       "\n",
       "    .dataframe thead th {\n",
       "        text-align: right;\n",
       "    }\n",
       "</style>\n",
       "<table border=\"1\" class=\"dataframe\">\n",
       "  <thead>\n",
       "    <tr style=\"text-align: right;\">\n",
       "      <th></th>\n",
       "      <th>file_names</th>\n",
       "      <th>labels</th>\n",
       "    </tr>\n",
       "  </thead>\n",
       "  <tbody>\n",
       "    <tr>\n",
       "      <th>0</th>\n",
       "      <td>/home/cvh255/nlp_hw1/aclImdb/train/pos/9258_10...</td>\n",
       "      <td>1</td>\n",
       "    </tr>\n",
       "    <tr>\n",
       "      <th>1</th>\n",
       "      <td>/home/cvh255/nlp_hw1/aclImdb/train/pos/3_10.txt</td>\n",
       "      <td>1</td>\n",
       "    </tr>\n",
       "    <tr>\n",
       "      <th>2</th>\n",
       "      <td>/home/cvh255/nlp_hw1/aclImdb/train/pos/9597_10...</td>\n",
       "      <td>1</td>\n",
       "    </tr>\n",
       "    <tr>\n",
       "      <th>3</th>\n",
       "      <td>/home/cvh255/nlp_hw1/aclImdb/train/pos/3347_7.txt</td>\n",
       "      <td>1</td>\n",
       "    </tr>\n",
       "    <tr>\n",
       "      <th>4</th>\n",
       "      <td>/home/cvh255/nlp_hw1/aclImdb/train/pos/2160_8.txt</td>\n",
       "      <td>1</td>\n",
       "    </tr>\n",
       "  </tbody>\n",
       "</table>\n",
       "</div>"
      ],
      "text/plain": [
       "                                          file_names  labels\n",
       "0  /home/cvh255/nlp_hw1/aclImdb/train/pos/9258_10...       1\n",
       "1    /home/cvh255/nlp_hw1/aclImdb/train/pos/3_10.txt       1\n",
       "2  /home/cvh255/nlp_hw1/aclImdb/train/pos/9597_10...       1\n",
       "3  /home/cvh255/nlp_hw1/aclImdb/train/pos/3347_7.txt       1\n",
       "4  /home/cvh255/nlp_hw1/aclImdb/train/pos/2160_8.txt       1"
      ]
     },
     "execution_count": 259,
     "metadata": {},
     "output_type": "execute_result"
    }
   ],
   "source": [
    "df.head()"
   ]
  },
  {
   "cell_type": "code",
   "execution_count": 260,
   "metadata": {},
   "outputs": [],
   "source": [
    "sss = StratifiedShuffleSplit(n_splits=5, test_size=0.2, random_state=0)\n",
    "for train_index, test_index in sss.split(df[\"file_names\"], df[\"labels\"]):\n",
    "    train_df = df.iloc[train_index]\n",
    "    val_df = df.iloc[test_index]"
   ]
  },
  {
   "cell_type": "code",
   "execution_count": 261,
   "metadata": {},
   "outputs": [
    {
     "data": {
      "text/plain": [
       "((20000, 2), (5000, 2))"
      ]
     },
     "execution_count": 261,
     "metadata": {},
     "output_type": "execute_result"
    }
   ],
   "source": [
    "train_df.shape,val_df.shape"
   ]
  },
  {
   "cell_type": "code",
   "execution_count": 262,
   "metadata": {},
   "outputs": [],
   "source": [
    "def get_data(df):\n",
    "    all_txt = []\n",
    "    for i,j in df.iterrows():\n",
    "        f = open(j[\"file_names\"])\n",
    "        txt = f.read()\n",
    "        all_txt.append(txt)\n",
    "#         print(j)\n",
    "    df[\"content\"] = all_txt\n",
    "    return df"
   ]
  },
  {
   "cell_type": "code",
   "execution_count": 263,
   "metadata": {},
   "outputs": [
    {
     "name": "stderr",
     "output_type": "stream",
     "text": [
      "/home/cvh255/pyenv/py3.6.3/lib/python3.6/site-packages/ipykernel_launcher.py:8: SettingWithCopyWarning: \n",
      "A value is trying to be set on a copy of a slice from a DataFrame.\n",
      "Try using .loc[row_indexer,col_indexer] = value instead\n",
      "\n",
      "See the caveats in the documentation: http://pandas.pydata.org/pandas-docs/stable/indexing.html#indexing-view-versus-copy\n",
      "  \n"
     ]
    }
   ],
   "source": [
    "train_df = get_data(train_df)\n",
    "val_df = get_data(val_df)"
   ]
  },
  {
   "cell_type": "code",
   "execution_count": 264,
   "metadata": {},
   "outputs": [
    {
     "data": {
      "text/plain": [
       "'do'"
      ]
     },
     "execution_count": 264,
     "metadata": {},
     "output_type": "execute_result"
    }
   ],
   "source": [
    "stemmer.stem(\"doing\")"
   ]
  },
  {
   "cell_type": "code",
   "execution_count": 265,
   "metadata": {},
   "outputs": [],
   "source": [
    "from nltk import ngrams"
   ]
  },
  {
   "cell_type": "code",
   "execution_count": 266,
   "metadata": {},
   "outputs": [],
   "source": [
    "import string\n",
    "punctuations = string.punctuation\n",
    "def tokenize1(phrase):\n",
    "    tokens = tokenize(phrase)\n",
    "    return [stemmer.stem(token.text.lower()) for token in tokens if (token.text not in punctuations and token.text not in stop_words)]\n",
    "    "
   ]
  },
  {
   "cell_type": "code",
   "execution_count": 267,
   "metadata": {},
   "outputs": [],
   "source": [
    "bg = list(ngrams(tokenize1(\"I am going mad! you are nuts and mad again\"),4))"
   ]
  },
  {
   "cell_type": "code",
   "execution_count": 268,
   "metadata": {},
   "outputs": [
    {
     "data": {
      "text/plain": [
       "[('i', 'go', 'mad', 'nut'), ('go', 'mad', 'nut', 'mad')]"
      ]
     },
     "execution_count": 268,
     "metadata": {},
     "output_type": "execute_result"
    }
   ],
   "source": [
    "bg"
   ]
  },
  {
   "cell_type": "code",
   "execution_count": 269,
   "metadata": {},
   "outputs": [
    {
     "data": {
      "text/plain": [
       "['i go mad nut', 'go mad nut mad']"
      ]
     },
     "execution_count": 269,
     "metadata": {},
     "output_type": "execute_result"
    }
   ],
   "source": [
    "[' '.join(a) for a in bg]"
   ]
  },
  {
   "cell_type": "code",
   "execution_count": 271,
   "metadata": {},
   "outputs": [],
   "source": [
    "def tokenize_dataset1(dataset,n_gram):\n",
    "    token_dataset = []\n",
    "    all_tokens = []\n",
    "    for sample in dataset:\n",
    "        tokens = tokenize1(sample)\n",
    "        bg = list(nltk.bigrams(tokens))\n",
    "        tg = list(nltk.trigrams(tokens))\n",
    "        fg = list(ngrams(tokens,4))\n",
    "        bg_t = [' '.join(a) for a in bg]\n",
    "        tg_t = [' '.join(a) for a in tg]\n",
    "        fg_t = [' '.join(a) for a in fg]\n",
    "        tokens = tokens + bg_t + tg_t + fg_t\n",
    "        token_dataset.append(tokens)\n",
    "        all_tokens+=tokens\n",
    "    return token_dataset, all_tokens"
   ]
  },
  {
   "cell_type": "code",
   "execution_count": 272,
   "metadata": {},
   "outputs": [
    {
     "name": "stdout",
     "output_type": "stream",
     "text": [
      "Tokenizing val data\n"
     ]
    },
    {
     "name": "stderr",
     "output_type": "stream",
     "text": [
      "/home/cvh255/pyenv/py3.6.3/lib/python3.6/site-packages/ipykernel_launcher.py:2: SettingWithCopyWarning: \n",
      "A value is trying to be set on a copy of a slice from a DataFrame.\n",
      "Try using .loc[row_indexer,col_indexer] = value instead\n",
      "\n",
      "See the caveats in the documentation: http://pandas.pydata.org/pandas-docs/stable/indexing.html#indexing-view-versus-copy\n",
      "  \n"
     ]
    },
    {
     "name": "stdout",
     "output_type": "stream",
     "text": [
      "Tokenizing train data\n"
     ]
    },
    {
     "name": "stderr",
     "output_type": "stream",
     "text": [
      "/home/cvh255/pyenv/py3.6.3/lib/python3.6/site-packages/ipykernel_launcher.py:7: SettingWithCopyWarning: \n",
      "A value is trying to be set on a copy of a slice from a DataFrame.\n",
      "Try using .loc[row_indexer,col_indexer] = value instead\n",
      "\n",
      "See the caveats in the documentation: http://pandas.pydata.org/pandas-docs/stable/indexing.html#indexing-view-versus-copy\n",
      "  import sys\n"
     ]
    }
   ],
   "source": [
    "print (\"Tokenizing val data\")\n",
    "val_df[\"tokenized1\"], _ = tokenize_dataset1(val_df[\"content\"],1)\n",
    "# pkl.dump(val_data_tokens, open(\"val_data_tokens.p\", \"wb\"))\n",
    "\n",
    "# train set tokens\n",
    "print (\"Tokenizing train data\")\n",
    "train_df[\"tokenized1\"], all_train_tokens = tokenize_dataset1(train_df[\"content\"],1)\n",
    "# pkl.dump(train_data_tokens, open(\"train_data_tokens.p\", \"wb\"))\n",
    "# pkl.dump(all_train_tokens, open(\"all_train_tokens.p\", \"wb\"))"
   ]
  },
  {
   "cell_type": "code",
   "execution_count": 295,
   "metadata": {},
   "outputs": [
    {
     "data": {
      "text/html": [
       "<div>\n",
       "<style scoped>\n",
       "    .dataframe tbody tr th:only-of-type {\n",
       "        vertical-align: middle;\n",
       "    }\n",
       "\n",
       "    .dataframe tbody tr th {\n",
       "        vertical-align: top;\n",
       "    }\n",
       "\n",
       "    .dataframe thead th {\n",
       "        text-align: right;\n",
       "    }\n",
       "</style>\n",
       "<table border=\"1\" class=\"dataframe\">\n",
       "  <thead>\n",
       "    <tr style=\"text-align: right;\">\n",
       "      <th></th>\n",
       "      <th>file_names</th>\n",
       "      <th>labels</th>\n",
       "      <th>content</th>\n",
       "      <th>tokenized1</th>\n",
       "      <th>token_idized</th>\n",
       "    </tr>\n",
       "  </thead>\n",
       "  <tbody>\n",
       "    <tr>\n",
       "      <th>8283</th>\n",
       "      <td>/home/cvh255/nlp_hw1/aclImdb/train/pos/4793_7.txt</td>\n",
       "      <td>1</td>\n",
       "      <td>After seeing this film I feel like I know just...</td>\n",
       "      <td>[after, see, film, i, feel, like, i, know, lit...</td>\n",
       "      <td>[470, 19, 6, 2, 84, 11, 2, 51, 68, 155, 3733, ...</td>\n",
       "    </tr>\n",
       "    <tr>\n",
       "      <th>10937</th>\n",
       "      <td>/home/cvh255/nlp_hw1/aclImdb/train/pos/11592_1...</td>\n",
       "      <td>1</td>\n",
       "      <td>My son was 7 years old when he saw this movie,...</td>\n",
       "      <td>[my, son, 7, year, old, saw, movi, russian, fi...</td>\n",
       "      <td>[371, 429, 1384, 66, 97, 168, 5, 1848, 2563, 1...</td>\n",
       "    </tr>\n",
       "    <tr>\n",
       "      <th>9347</th>\n",
       "      <td>/home/cvh255/nlp_hw1/aclImdb/train/pos/3243_8.txt</td>\n",
       "      <td>1</td>\n",
       "      <td>Remember the early days of Pay Per View? I do,...</td>\n",
       "      <td>[rememb, earli, day, pay, per, view, i, almost...</td>\n",
       "      <td>[309, 402, 121, 709, 3957, 288, 2, 174, 309, 4...</td>\n",
       "    </tr>\n",
       "    <tr>\n",
       "      <th>5430</th>\n",
       "      <td>/home/cvh255/nlp_hw1/aclImdb/train/pos/10129_7...</td>\n",
       "      <td>1</td>\n",
       "      <td>And that's how the greatest comedy of TV start...</td>\n",
       "      <td>[and, 's, greatest, comedi, tv, start, it, 12,...</td>\n",
       "      <td>[70, 3, 907, 143, 204, 114, 12, 2445, 66, 201,...</td>\n",
       "    </tr>\n",
       "    <tr>\n",
       "      <th>4072</th>\n",
       "      <td>/home/cvh255/nlp_hw1/aclImdb/train/pos/9873_7.txt</td>\n",
       "      <td>1</td>\n",
       "      <td>Lily Mars, a smalltown girl living in Indiana,...</td>\n",
       "      <td>[lili, mar, smalltown, girl, live, indiana, dr...</td>\n",
       "      <td>[3279, 3930, 1, 119, 101, 9477, 564, 15, 150, ...</td>\n",
       "    </tr>\n",
       "  </tbody>\n",
       "</table>\n",
       "</div>"
      ],
      "text/plain": [
       "                                              file_names  labels  \\\n",
       "8283   /home/cvh255/nlp_hw1/aclImdb/train/pos/4793_7.txt       1   \n",
       "10937  /home/cvh255/nlp_hw1/aclImdb/train/pos/11592_1...       1   \n",
       "9347   /home/cvh255/nlp_hw1/aclImdb/train/pos/3243_8.txt       1   \n",
       "5430   /home/cvh255/nlp_hw1/aclImdb/train/pos/10129_7...       1   \n",
       "4072   /home/cvh255/nlp_hw1/aclImdb/train/pos/9873_7.txt       1   \n",
       "\n",
       "                                                 content  \\\n",
       "8283   After seeing this film I feel like I know just...   \n",
       "10937  My son was 7 years old when he saw this movie,...   \n",
       "9347   Remember the early days of Pay Per View? I do,...   \n",
       "5430   And that's how the greatest comedy of TV start...   \n",
       "4072   Lily Mars, a smalltown girl living in Indiana,...   \n",
       "\n",
       "                                              tokenized1  \\\n",
       "8283   [after, see, film, i, feel, like, i, know, lit...   \n",
       "10937  [my, son, 7, year, old, saw, movi, russian, fi...   \n",
       "9347   [rememb, earli, day, pay, per, view, i, almost...   \n",
       "5430   [and, 's, greatest, comedi, tv, start, it, 12,...   \n",
       "4072   [lili, mar, smalltown, girl, live, indiana, dr...   \n",
       "\n",
       "                                            token_idized  \n",
       "8283   [470, 19, 6, 2, 84, 11, 2, 51, 68, 155, 3733, ...  \n",
       "10937  [371, 429, 1384, 66, 97, 168, 5, 1848, 2563, 1...  \n",
       "9347   [309, 402, 121, 709, 3957, 288, 2, 174, 309, 4...  \n",
       "5430   [70, 3, 907, 143, 204, 114, 12, 2445, 66, 201,...  \n",
       "4072   [3279, 3930, 1, 119, 101, 9477, 564, 15, 150, ...  "
      ]
     },
     "execution_count": 295,
     "metadata": {},
     "output_type": "execute_result"
    }
   ],
   "source": [
    "train_df.head()"
   ]
  },
  {
   "cell_type": "code",
   "execution_count": 296,
   "metadata": {},
   "outputs": [],
   "source": [
    "train_df.to_csv(\"train_df_tok6.csv\",index=False)"
   ]
  },
  {
   "cell_type": "code",
   "execution_count": 297,
   "metadata": {},
   "outputs": [],
   "source": [
    "val_df.to_csv(\"val_df_tok6.csv\",index=False)"
   ]
  },
  {
   "cell_type": "code",
   "execution_count": 298,
   "metadata": {},
   "outputs": [],
   "source": [
    "import pickle\n",
    "pickle.dump(all_train_tokens,open(\"all_tokens6\",'wb'))"
   ]
  },
  {
   "cell_type": "code",
   "execution_count": 5,
   "metadata": {},
   "outputs": [],
   "source": [
    "train_df = pd.read_csv(\"train_df_tok1.csv\")\n",
    "val_df = pd.read_csv(\"val_df_tok1.csv\")"
   ]
  },
  {
   "cell_type": "code",
   "execution_count": 6,
   "metadata": {},
   "outputs": [],
   "source": [
    "import pickle\n",
    "all_train_tokens = pickle.load(open(\"all_tokens1\",'rb'))"
   ]
  },
  {
   "cell_type": "code",
   "execution_count": 299,
   "metadata": {},
   "outputs": [],
   "source": [
    "from collections import Counter\n",
    "\n",
    "max_vocab_size = 100000\n",
    "PAD_IDX = 0\n",
    "UNK_IDX = 1\n",
    "\n",
    "def build_vocab(all_tokens):\n",
    "    token_counter = Counter(all_tokens)\n",
    "    vocab, count = zip(*token_counter.most_common(max_vocab_size))\n",
    "    id2token = list(vocab)\n",
    "    token2id = dict(zip(vocab, range(2,2+len(vocab)))) \n",
    "    id2token = ['<pad>', '<unk>'] + id2token\n",
    "    token2id['<pad>'] = PAD_IDX \n",
    "    token2id['<unk>'] = UNK_IDX\n",
    "    return token2id, id2token\n",
    "\n",
    "token2id, id2token = build_vocab(all_train_tokens)"
   ]
  },
  {
   "cell_type": "code",
   "execution_count": 300,
   "metadata": {},
   "outputs": [
    {
     "name": "stdout",
     "output_type": "stream",
     "text": [
      "Token id 39755 ; token written charact\n",
      "Token written charact; token id 39755\n"
     ]
    }
   ],
   "source": [
    "import random\n",
    "random_token_id = random.randint(0, len(id2token)-1)\n",
    "random_token = id2token[random_token_id]\n",
    "\n",
    "print (\"Token id {} ; token {}\".format(random_token_id, id2token[random_token_id]))\n",
    "print (\"Token {}; token id {}\".format(random_token, token2id[random_token]))"
   ]
  },
  {
   "cell_type": "code",
   "execution_count": 301,
   "metadata": {},
   "outputs": [
    {
     "name": "stderr",
     "output_type": "stream",
     "text": [
      "/home/cvh255/pyenv/py3.6.3/lib/python3.6/site-packages/ipykernel_launcher.py:8: SettingWithCopyWarning: \n",
      "A value is trying to be set on a copy of a slice from a DataFrame.\n",
      "Try using .loc[row_indexer,col_indexer] = value instead\n",
      "\n",
      "See the caveats in the documentation: http://pandas.pydata.org/pandas-docs/stable/indexing.html#indexing-view-versus-copy\n",
      "  \n",
      "/home/cvh255/pyenv/py3.6.3/lib/python3.6/site-packages/ipykernel_launcher.py:9: SettingWithCopyWarning: \n",
      "A value is trying to be set on a copy of a slice from a DataFrame.\n",
      "Try using .loc[row_indexer,col_indexer] = value instead\n",
      "\n",
      "See the caveats in the documentation: http://pandas.pydata.org/pandas-docs/stable/indexing.html#indexing-view-versus-copy\n",
      "  if __name__ == '__main__':\n"
     ]
    }
   ],
   "source": [
    "def token2index_dataset(tokens_data):\n",
    "    indices_data = []\n",
    "    for tokens in tokens_data:\n",
    "        index_list = [token2id[token] if token in token2id else UNK_IDX for token in tokens]\n",
    "        indices_data.append(index_list)\n",
    "    return indices_data\n",
    "\n",
    "train_df['token_idized'] = token2index_dataset(train_df['tokenized1'])\n",
    "val_df['token_idized'] = token2index_dataset(val_df['tokenized1'])\n",
    "# test_data_indices = token2index_dataset(test_data_tokens)\n",
    "\n"
   ]
  },
  {
   "cell_type": "code",
   "execution_count": 302,
   "metadata": {},
   "outputs": [
    {
     "data": {
      "text/html": [
       "<div>\n",
       "<style scoped>\n",
       "    .dataframe tbody tr th:only-of-type {\n",
       "        vertical-align: middle;\n",
       "    }\n",
       "\n",
       "    .dataframe tbody tr th {\n",
       "        vertical-align: top;\n",
       "    }\n",
       "\n",
       "    .dataframe thead th {\n",
       "        text-align: right;\n",
       "    }\n",
       "</style>\n",
       "<table border=\"1\" class=\"dataframe\">\n",
       "  <thead>\n",
       "    <tr style=\"text-align: right;\">\n",
       "      <th></th>\n",
       "      <th>file_names</th>\n",
       "      <th>labels</th>\n",
       "      <th>content</th>\n",
       "      <th>tokenized1</th>\n",
       "      <th>token_idized</th>\n",
       "    </tr>\n",
       "  </thead>\n",
       "  <tbody>\n",
       "    <tr>\n",
       "      <th>8283</th>\n",
       "      <td>/home/cvh255/nlp_hw1/aclImdb/train/pos/4793_7.txt</td>\n",
       "      <td>1</td>\n",
       "      <td>After seeing this film I feel like I know just...</td>\n",
       "      <td>[after, see, film, i, feel, like, i, know, lit...</td>\n",
       "      <td>[470, 19, 6, 2, 84, 11, 2, 51, 68, 155, 3733, ...</td>\n",
       "    </tr>\n",
       "    <tr>\n",
       "      <th>10937</th>\n",
       "      <td>/home/cvh255/nlp_hw1/aclImdb/train/pos/11592_1...</td>\n",
       "      <td>1</td>\n",
       "      <td>My son was 7 years old when he saw this movie,...</td>\n",
       "      <td>[my, son, 7, year, old, saw, movi, russian, fi...</td>\n",
       "      <td>[371, 429, 1384, 66, 97, 168, 5, 1848, 2563, 1...</td>\n",
       "    </tr>\n",
       "    <tr>\n",
       "      <th>9347</th>\n",
       "      <td>/home/cvh255/nlp_hw1/aclImdb/train/pos/3243_8.txt</td>\n",
       "      <td>1</td>\n",
       "      <td>Remember the early days of Pay Per View? I do,...</td>\n",
       "      <td>[rememb, earli, day, pay, per, view, i, almost...</td>\n",
       "      <td>[309, 402, 121, 709, 3957, 288, 2, 174, 309, 4...</td>\n",
       "    </tr>\n",
       "    <tr>\n",
       "      <th>5430</th>\n",
       "      <td>/home/cvh255/nlp_hw1/aclImdb/train/pos/10129_7...</td>\n",
       "      <td>1</td>\n",
       "      <td>And that's how the greatest comedy of TV start...</td>\n",
       "      <td>[and, 's, greatest, comedi, tv, start, it, 12,...</td>\n",
       "      <td>[70, 3, 907, 143, 204, 114, 12, 2445, 66, 201,...</td>\n",
       "    </tr>\n",
       "    <tr>\n",
       "      <th>4072</th>\n",
       "      <td>/home/cvh255/nlp_hw1/aclImdb/train/pos/9873_7.txt</td>\n",
       "      <td>1</td>\n",
       "      <td>Lily Mars, a smalltown girl living in Indiana,...</td>\n",
       "      <td>[lili, mar, smalltown, girl, live, indiana, dr...</td>\n",
       "      <td>[3279, 3930, 1, 119, 101, 9477, 564, 15, 150, ...</td>\n",
       "    </tr>\n",
       "  </tbody>\n",
       "</table>\n",
       "</div>"
      ],
      "text/plain": [
       "                                              file_names  labels  \\\n",
       "8283   /home/cvh255/nlp_hw1/aclImdb/train/pos/4793_7.txt       1   \n",
       "10937  /home/cvh255/nlp_hw1/aclImdb/train/pos/11592_1...       1   \n",
       "9347   /home/cvh255/nlp_hw1/aclImdb/train/pos/3243_8.txt       1   \n",
       "5430   /home/cvh255/nlp_hw1/aclImdb/train/pos/10129_7...       1   \n",
       "4072   /home/cvh255/nlp_hw1/aclImdb/train/pos/9873_7.txt       1   \n",
       "\n",
       "                                                 content  \\\n",
       "8283   After seeing this film I feel like I know just...   \n",
       "10937  My son was 7 years old when he saw this movie,...   \n",
       "9347   Remember the early days of Pay Per View? I do,...   \n",
       "5430   And that's how the greatest comedy of TV start...   \n",
       "4072   Lily Mars, a smalltown girl living in Indiana,...   \n",
       "\n",
       "                                              tokenized1  \\\n",
       "8283   [after, see, film, i, feel, like, i, know, lit...   \n",
       "10937  [my, son, 7, year, old, saw, movi, russian, fi...   \n",
       "9347   [rememb, earli, day, pay, per, view, i, almost...   \n",
       "5430   [and, 's, greatest, comedi, tv, start, it, 12,...   \n",
       "4072   [lili, mar, smalltown, girl, live, indiana, dr...   \n",
       "\n",
       "                                            token_idized  \n",
       "8283   [470, 19, 6, 2, 84, 11, 2, 51, 68, 155, 3733, ...  \n",
       "10937  [371, 429, 1384, 66, 97, 168, 5, 1848, 2563, 1...  \n",
       "9347   [309, 402, 121, 709, 3957, 288, 2, 174, 309, 4...  \n",
       "5430   [70, 3, 907, 143, 204, 114, 12, 2445, 66, 201,...  \n",
       "4072   [3279, 3930, 1, 119, 101, 9477, 564, 15, 150, ...  "
      ]
     },
     "execution_count": 302,
     "metadata": {},
     "output_type": "execute_result"
    }
   ],
   "source": [
    "train_df.head()"
   ]
  },
  {
   "cell_type": "code",
   "execution_count": 303,
   "metadata": {},
   "outputs": [],
   "source": [
    "# train_df.iloc[2,-1]"
   ]
  },
  {
   "cell_type": "code",
   "execution_count": 304,
   "metadata": {},
   "outputs": [],
   "source": [
    "class IMDBDataset(Dataset):\n",
    "    def __init__(self, csv_file):\n",
    "        self.data_frame = csv_file\n",
    "\n",
    "    def __len__(self):\n",
    "        return len(self.data_frame)\n",
    "\n",
    "    def __getitem__(self, idx):\n",
    "#         print(idx,self.data_frame[\"token_idized\"][idx])\n",
    "        token_idx = self.data_frame.iloc[idx][\"token_idized\"]\n",
    "        label = self.data_frame.iloc[idx]['labels']\n",
    "#         print(token_idx)\n",
    "        return [token_idx, len(token_idx), label]\n",
    "\n",
    "\n"
   ]
  },
  {
   "cell_type": "code",
   "execution_count": 305,
   "metadata": {},
   "outputs": [],
   "source": [
    "def pad_fun(batch):\n",
    "    data_list = []\n",
    "    label_list = []\n",
    "    length_list = []\n",
    "#     print(batch[0])\n",
    "    for datum in batch:\n",
    "        label_list.append(datum[2])\n",
    "        length_list.append(datum[1])\n",
    "    for datum in batch:\n",
    "        if datum[1]>MAX_SENTENCE_LENGTH:\n",
    "            padded_vec = np.array(datum[0][:MAX_SENTENCE_LENGTH])\n",
    "        else:\n",
    "            padded_vec = np.pad(np.array(datum[0]), \n",
    "                                pad_width=((0,MAX_SENTENCE_LENGTH - datum[1])), \n",
    "                                mode=\"constant\", constant_values=0)\n",
    "#         print(padded_vec.shape)\n",
    "        data_list.append(padded_vec)\n",
    "    return [torch.from_numpy(np.array(data_list)), torch.from_numpy(np.array(length_list)), torch.from_numpy(np.array(label_list))]"
   ]
  },
  {
   "cell_type": "code",
   "execution_count": 306,
   "metadata": {},
   "outputs": [],
   "source": [
    "BATCH_SIZE = 100\n",
    "train_dataset = IMDBDataset(train_df)\n",
    "train_loader = torch.utils.data.DataLoader(dataset = train_dataset, \n",
    "                                           batch_size = BATCH_SIZE,\n",
    "                                           collate_fn = pad_fun,\n",
    "                                           shuffle = True)\n",
    "\n",
    "val_dataset = IMDBDataset(val_df)\n",
    "val_loader = torch.utils.data.DataLoader(dataset = val_dataset, \n",
    "                                           batch_size = BATCH_SIZE,\n",
    "                                           collate_fn = pad_fun,\n",
    "                                           shuffle = True)\n",
    "\n"
   ]
  },
  {
   "cell_type": "code",
   "execution_count": 307,
   "metadata": {},
   "outputs": [],
   "source": [
    "# next(iter(train_loader))"
   ]
  },
  {
   "cell_type": "code",
   "execution_count": 308,
   "metadata": {
    "scrolled": false
   },
   "outputs": [],
   "source": [
    "# d = next(iter(train_loader))\n"
   ]
  },
  {
   "cell_type": "code",
   "execution_count": 309,
   "metadata": {},
   "outputs": [],
   "source": [
    "import torch\n",
    "import torch.nn as nn\n",
    "import torch.nn.functional as F\n",
    "from torch.autograd import Variable\n",
    "class BagOfWords(nn.Module):\n",
    "    def __init__(self, vocab_size, emb_dim):\n",
    "        super(BagOfWords, self).__init__()\n",
    "        self.embed = nn.Embedding(vocab_size, emb_dim, padding_idx = 0)\n",
    "#         self.linear = nn.Linear(emb_dim,20)\n",
    "        self.linear = nn.Linear(emb_dim,2)\n",
    "#         self.linear2 = nn.Linear(100,300)\n",
    "#         self.linear3 = nn.Linear(300,2)\n",
    "#         self.dp = nn.Dropout(p=0.5)\n",
    "    \n",
    "    def forward(self, data, length):\n",
    "        out = self.embed(data)\n",
    "        out = torch.sum(out, dim=1)\n",
    "        out /= length.view(length.size()[0],1).expand_as(out).float()\n",
    "#         out = F.relu(self.linear(out.float()))\n",
    "#         out = F.relu(self.linear2(out.float()))\n",
    "#         out = self.linear3(out.float())\n",
    "#         print(out.size())\n",
    "        out = self.linear(out.float())\n",
    "        return out\n",
    "\n"
   ]
  },
  {
   "cell_type": "code",
   "execution_count": 310,
   "metadata": {},
   "outputs": [],
   "source": [
    "# next(iter(train_loader))"
   ]
  },
  {
   "cell_type": "code",
   "execution_count": 311,
   "metadata": {},
   "outputs": [],
   "source": [
    "dataloaders = [train_loader,val_loader]"
   ]
  },
  {
   "cell_type": "code",
   "execution_count": 312,
   "metadata": {},
   "outputs": [],
   "source": [
    "def training(model,criterion, optimizer, name, num_epochs):\n",
    "    best_loss = np.inf\n",
    "    best_acc = 0\n",
    "    loss_hist = {'train':[],'validate':[]}\n",
    "    for i in range(num_epochs):\n",
    "        for enu,phase in enumerate(['train', 'validate']):\n",
    "            running_loss = 0\n",
    "            running_total = 0\n",
    "            correct = 0\n",
    "            total = 0\n",
    "            if phase == 'train':\n",
    "                model.train(True)\n",
    "            else:\n",
    "                model.train(False)\n",
    "            for (data, lengths, labels) in dataloaders[enu]:\n",
    "                data_batch, length_batch, label_batch = data.cuda(), lengths.cuda(), labels.cuda()\n",
    "                optimizer.zero_grad()\n",
    "                outputs = model(data_batch, length_batch)\n",
    "                loss = criterion(outputs, label_batch)\n",
    "                if phase=='train':\n",
    "                    loss.backward()\n",
    "                    optimizer.step()\n",
    "                N = labels.size(0)\n",
    "                \n",
    "                outputs = F.softmax(model(data_batch, length_batch), dim=1)\n",
    "                predicted = outputs.max(1, keepdim=True)[1]\n",
    "#                 print(type(predicted))\n",
    "                total += labels.size(0)\n",
    "                correct += predicted.eq(labels.view_as(predicted).cuda()).sum().item()\n",
    "                running_loss += loss.data[0] * N\n",
    "                running_total += N\n",
    "            epoch_loss = running_loss/running_total\n",
    "            loss_hist[phase].append(epoch_loss.item())\n",
    "            accuracy = 100 * correct / total\n",
    "            print('Epoch: {}, Phase: {}, epoch loss: {:.4f}, accuracy: {:.4f}'\\\n",
    "                      .format(i,phase,epoch_loss, accuracy))\n",
    "        if phase == 'validate' and epoch_loss < best_loss:\n",
    "            best_loss = epoch_loss\n",
    "            best_acc = accuracy\n",
    "            torch.save(model,name)\n",
    "    print('Best val dice loss: {:4f}, Best Accuracy: {:4f}'.format(best_loss,best_acc))\n",
    "    return model, loss_hist"
   ]
  },
  {
   "cell_type": "code",
   "execution_count": 313,
   "metadata": {},
   "outputs": [
    {
     "name": "stderr",
     "output_type": "stream",
     "text": [
      "/home/cvh255/pyenv/py3.6.3/lib/python3.6/site-packages/ipykernel_launcher.py:30: UserWarning: invalid index of a 0-dim tensor. This will be an error in PyTorch 0.5. Use tensor.item() to convert a 0-dim tensor to a Python number\n"
     ]
    },
    {
     "name": "stdout",
     "output_type": "stream",
     "text": [
      "Epoch: 0, Phase: train, epoch loss: 0.4474, accuracy: 80.8900\n",
      "Epoch: 0, Phase: validate, epoch loss: 0.2775, accuracy: 89.7600\n"
     ]
    },
    {
     "name": "stderr",
     "output_type": "stream",
     "text": [
      "/home/cvh255/pyenv/py3.6.3/lib/python3.6/site-packages/torch/serialization.py:241: UserWarning: Couldn't retrieve source code for container of type BagOfWords. It won't be checked for correctness upon loading.\n",
      "  \"type \" + obj.__name__ + \". It won't be checked \"\n"
     ]
    },
    {
     "name": "stdout",
     "output_type": "stream",
     "text": [
      "Epoch: 1, Phase: train, epoch loss: 0.1418, accuracy: 96.1600\n",
      "Epoch: 1, Phase: validate, epoch loss: 0.2682, accuracy: 89.7200\n",
      "Epoch: 2, Phase: train, epoch loss: 0.0475, accuracy: 99.2000\n",
      "Epoch: 2, Phase: validate, epoch loss: 0.2820, accuracy: 90.0600\n",
      "Epoch: 3, Phase: train, epoch loss: 0.0179, accuracy: 99.8000\n",
      "Epoch: 3, Phase: validate, epoch loss: 0.3050, accuracy: 90.2000\n",
      "Epoch: 4, Phase: train, epoch loss: 0.0090, accuracy: 99.9700\n",
      "Epoch: 4, Phase: validate, epoch loss: 0.3270, accuracy: 90.1800\n",
      "Epoch: 5, Phase: train, epoch loss: 0.0053, accuracy: 99.9950\n",
      "Epoch: 5, Phase: validate, epoch loss: 0.3475, accuracy: 90.0200\n",
      "Epoch: 6, Phase: train, epoch loss: 0.0034, accuracy: 100.0000\n",
      "Epoch: 6, Phase: validate, epoch loss: 0.3646, accuracy: 90.1200\n",
      "Epoch: 7, Phase: train, epoch loss: 0.0024, accuracy: 100.0000\n",
      "Epoch: 7, Phase: validate, epoch loss: 0.3798, accuracy: 90.0200\n",
      "Epoch: 8, Phase: train, epoch loss: 0.0017, accuracy: 100.0000\n",
      "Epoch: 8, Phase: validate, epoch loss: 0.3940, accuracy: 90.0000\n",
      "Epoch: 9, Phase: train, epoch loss: 0.0013, accuracy: 100.0000\n",
      "Epoch: 9, Phase: validate, epoch loss: 0.4065, accuracy: 90.0200\n",
      "Best val dice loss: 0.268192, Best Accuracy: 89.720000\n"
     ]
    }
   ],
   "source": [
    "emb_dim = 300\n",
    "model = BagOfWords(len(id2token), emb_dim).cuda()\n",
    "# model = nn.DataParallel(model)\n",
    "learning_rate = 0.01\n",
    "# num_epochs = 100\n",
    "\n",
    "criterion = torch.nn.CrossEntropyLoss()  \n",
    "optimizer = torch.optim.Adam(model.parameters(), lr = learning_rate)\n",
    "# optimizer = torch.optim.SGD(model)\n",
    "\n",
    "\n",
    "m_save, loss_hists = training(model,criterion,optimizer,\"model27_tokenize2\",10)"
   ]
  },
  {
   "cell_type": "code",
   "execution_count": 2,
   "metadata": {},
   "outputs": [
    {
     "data": {
      "image/png": "[encoded data removed]",
      "text/plain": [
       "<matplotlib.figure.Figure at 0x2b180b36d518>"
      ]
     },
     "metadata": {},
     "output_type": "display_data"
    }
   ],
   "source": [
    "import matplotlib.pyplot as plt\n",
    "train_acc = [80.89,96.16,99.2,99.8,99.97,99.995,100,100,100,100]\n",
    "val_acc = [89.76,89.72,90.06,90.2,90.18,90.02,90.12,90.02,90,90.02]\n",
    "plt.plot(train_acc,label=\"train acc\")\n",
    "plt.plot(val_acc,label=\"val_acc\")\n",
    "plt.legend()\n",
    "plt.show()"
   ]
  },
  {
   "cell_type": "code",
   "execution_count": 315,
   "metadata": {},
   "outputs": [
    {
     "data": {
      "image/png": "[encoded data removed]",
      "text/plain": [
       "<matplotlib.figure.Figure at 0x2af6654b6dd8>"
      ]
     },
     "metadata": {},
     "output_type": "display_data"
    }
   ],
   "source": [
    "plt.plot(loss_hists['train'],label=\"train loss\")\n",
    "plt.plot(loss_hists['validate'],label=\"validation loss\")\n",
    "plt.legend()\n",
    "plt.show()"
   ]
  },
  {
   "cell_type": "code",
   "execution_count": 316,
   "metadata": {},
   "outputs": [],
   "source": [
    "import pickle\n",
    "pickle.dump(loss_hists,open(\"loss_hist27_t2\",'wb'))"
   ]
  },
  {
   "cell_type": "code",
   "execution_count": 317,
   "metadata": {},
   "outputs": [],
   "source": [
    "class IMDBDataset_test(Dataset):\n",
    "    def __init__(self, csv_file):\n",
    "        self.data_frame = csv_file\n",
    "\n",
    "    def __len__(self):\n",
    "        return len(self.data_frame)\n",
    "\n",
    "    def __getitem__(self, idx):\n",
    "#         print(self.data_frame.iloc[idx].index)\n",
    "        file_name = self.data_frame.iloc[idx][\"file_names\"]\n",
    "        token_idx = self.data_frame.iloc[idx][\"token_idized\"]\n",
    "        label = self.data_frame.iloc[idx]['labels']\n",
    "        return [token_idx, len(token_idx), label,file_name]\n",
    "\n",
    "\n",
    "def pad_fun_test(batch):\n",
    "    data_list = []\n",
    "    label_list = []\n",
    "    length_list = []\n",
    "    file_names = []\n",
    "#     print(batch[0])\n",
    "    for datum in batch:\n",
    "        \n",
    "        label_list.append(datum[2])\n",
    "        length_list.append(datum[1])\n",
    "        file_names.append(datum[3])\n",
    "    for datum in batch:\n",
    "        if datum[1]>MAX_SENTENCE_LENGTH:\n",
    "            padded_vec = np.array(datum[0][:MAX_SENTENCE_LENGTH])\n",
    "        else:\n",
    "            padded_vec = np.pad(np.array(datum[0]), \n",
    "                                pad_width=((0,MAX_SENTENCE_LENGTH - datum[1])), \n",
    "                                mode=\"constant\", constant_values=0)\n",
    "#         print(padded_vec.shape)\n",
    "        data_list.append(padded_vec)\n",
    "    return [torch.from_numpy(np.array(data_list)), torch.from_numpy(np.array(length_list)), torch.from_numpy(np.array(label_list)),np.array(file_names)]\n",
    "\n",
    "val_dataset_test = IMDBDataset_test(val_df)\n",
    "val_loader_test = torch.utils.data.DataLoader(dataset = val_dataset_test, \n",
    "                                           batch_size = BATCH_SIZE,\n",
    "                                           collate_fn = pad_fun_test,\n",
    "                                           shuffle = True)"
   ]
  },
  {
   "cell_type": "code",
   "execution_count": 318,
   "metadata": {},
   "outputs": [],
   "source": [
    "mod_saved = torch.load(\"model27_tokenize2\")"
   ]
  },
  {
   "cell_type": "code",
   "execution_count": 319,
   "metadata": {},
   "outputs": [],
   "source": [
    "data, lengths, labels, file_n = next(iter(val_loader_test))\n",
    "data_batch, length_batch, label_batch = data.cuda(), lengths.cuda(), labels.cuda()\n",
    "outputs = mod_saved(data_batch, length_batch)\n",
    "outputs = F.softmax(model(data_batch, length_batch), dim=1)\n",
    "predicted = outputs.max(1, keepdim=True)[1]\n",
    "mask =(predicted.squeeze(1).eq(label_batch)).cpu().data.numpy()==0\n",
    "fns = file_n[mask]\n",
    "actual_out = labels.data.numpy()[mask]\n",
    "pred_false = predicted.cpu().data.numpy()[mask]"
   ]
  },
  {
   "cell_type": "code",
   "execution_count": 320,
   "metadata": {
    "scrolled": false
   },
   "outputs": [
    {
     "name": "stdout",
     "output_type": "stream",
     "text": [
      "predicted 0\n",
      "Actual 1\n",
      "/home/cvh255/nlp_hw1/aclImdb/train/pos/3799_8.txt\n",
      "When you start watching this animation-masterpiece, you quickly notice, that it's a European production. Although the Europeans have (sadly) integrated some of the clichés you would normally find in an American production of this kind, most are missing. One of these is that there is an overwhelming evil that only our (very few and very unlikely) heroes can vanquish. Another is that one of the group is only in the business for the money, is greedy, runs away when the heat is up but somehow gives in to his better nature. This movie would have been better off without both.<br /><br />The movie is based upon a TV-Series that was out four years before the movie. Unlike the movie, the TV-Series is a cartoon and not a computer animation. At first I thought the computer would kill the charm and character of the plot but I was quickliy convinced: Whoever did the animation knew his or her stuff! Although the characters are obviously fictional (in stills they don't even look real), they seem as alive and sentient as the audience following their quest. Making characters who by \"normal\" standards could be considered deformed (those micro-legs could never carry that giant body let alone make it jump) so alive and lovable is more than \"just a highlight\"! The creation of the world is another masterpiece. Not so much because of its looks but because of the inventiveness of it. The world our heroes travel is not solid like our own but is made of many pieces of land varying in shape and size that seem to be floating in mid air. When a person steps on a smaller fragment of ground, it nods a little bit as if feathering from the weight. In some cases up and down no longer apply but our heroes still manage to get a foothold somewhere. Although the world of floating islands is completely surreal, in this movie it is absolutely believable and after a short time it doesn't seem any weirder than running into a car somewhere in New York.<br /><br />I wrote that the looks of the world aren't as breathtaking as the idea. As true as that might be to my mind, the quality of the world, the characters and the attention to details is staggering. Although the faces of the characters have relatively few attributes, emotions can be read as clearly as in Sean Connery's or Dustin Hoffman's face. The world around the characters is wonderfully colourful and no two settings are alike. The background is always in motion, something is always going on which makes the world seem even more alive. If you stop the movie and look at the background you will be surprised how many details you can find.<br /><br />The existence of Hector actually puts the cherry on top. Hector is a furry little \"thing\" (possibly the equivalent of a dog in our world) who is totally lovable and extremely funny. Although he isn't really important for the main plot, he would be missed like Scrat would be in Ice Age. The really cool thing about Hector is that you need to speak Gibberish to understand him.<br /><br />If the movie is so great, why didn't I give it 10 stars? Well, the plot in itself was rather thin. Two hunters are sent out to rescue the world from a really bad dragon who wants to swallow the world, isn't really original. That in itself wouldn't be much of a problem. What I missed was the background information. What kind of a dragon was this and why did it look that way? I love mythical stories but if they get too thin then they seem to be written after the movie is finished in a feeble attempt to give the whole thing some depth.<br /><br />Another thing I didn't like was Zoé. Although a little girl like her could be considered adorable, she was somewhat of a pain in this movie. She seemed pretty resistant to all types of learning about reality, kept dreaming of some hero from a story book and basically slowed the others down. She would have been OK if she had developed a little more and a little earlier in the movie - or had been less of a girly to start with. To me the idea of this girl who was there to twist the story a little backfired on the writers.<br /><br />All in all, this is a really good movie for just about all ages.\n",
      "\n",
      "----------------------------------------------------------------------------------------------------\n",
      "predicted 1\n",
      "Actual 0\n",
      "/home/cvh255/nlp_hw1/aclImdb/train/neg/2807_3.txt\n",
      "Michael Callan plays a smarmy photographer who seems, nonetheless, to be regarded as a perfect \"catch\" by any woman that runs across him; could this have anything to do with the fact that he also co-produced the film? He's a \"hero\" whom it's very difficult to empathize with, so the movie is in trouble right from the start. However, it's troubles don't end there. It has the production values of a TV-movie (check out that head made of clay or something, near the end), and the ending cheats in a way that I can't reveal, in case anyone wants to see the movie (highly unlikely). Let's just say that the killer knows more than we were let to know he knows. (*1/2)\n",
      "\n",
      "----------------------------------------------------------------------------------------------------\n",
      "predicted 1\n",
      "Actual 0\n",
      "/home/cvh255/nlp_hw1/aclImdb/train/neg/2941_4.txt\n",
      "I hadn't heard of this film until I read an article about it on the Unknown Movies website, which made me curious. As a cartoonist and illustrator myself, I'm an admirer of Richard Williams's work - I rate Ziggy's Gift as one of the finest Christmas specials of all time, and even though Who Framed Roger Rabbit stopped being one of my favourite films when I got past the age of sixteen, I still have the highest of regard for the amount of work, care and attention to detail that went into creating the visuals - but it seems the man has his faults, most notably a propensity for going over budget and over schedule, and this film is a testament of just how far wrong even a super-talented individual like Williams can go, given the right circumstances.<br /><br />Raggedy Ann and Andy is a strange confection that tries to be weird and experimental and off the wall within the confines of a children's cartoon. It tries also to be a musical. It tries to be a thousand and one other things as well - is it a freakout? Is it a mind-blower? Is it a paean to the innocence of childhood imagination? - until it finally collapses under the weight of its own limitless ambitions and aspirations. It's beautifully animated, for the most part, though the bland backgrounds could have used a little more attention, but even that doesn't count for much when you're confronted with the hallucinogenic absurdity that constitutes much of the 'action' here.<br /><br />There are a number of problems with the film, but let's start with Raggedy Ann and Andy themselves. They're the stars of the show, yet they have no personalities. Actually, we get the message that Andy is a wannabe tough guy (\"I'm no girl's toy\", he sings) and that Ann has a unique perspective on things because her owner, a little girl called Marcella, carries her upside down, but that's all we get to find out about these dull-as-mud characters because the overwhelming weirdness of this film kicks in not long after. I use the word \"weirdness\" advisedly, because some weird films can be hugely entertaining, but this is just flat-out strange. The toys and dolls in the playroom are supposed to be cute and lovable, but they're actually bizarre and disturbing. The two marionettes who do and say everything in sync are a prime example of this. But even they're relatively normal compared to the constantly sneezing pirate captain, whose moustache becomes erect and whose groin visibly swells when he first catches sight of a glamorous French doll. Yes, this is supposed to be a children's film! Then there's the music, none of which is memorable, and all of which is sung by actors who can't sing. And to add insult to injury, there's a lot of singing in this film. When Ann and Andy finally make it out of the playroom, the first thing they do is sing a LONG number in the woods about how scared they are, about how they'll always have each other and...yes, we get the message. This seems to go on forever, but at least it brings some semblance of normality back to the film. Not for long, though, because the Camel with the wrinkled knees leads us into a bizarre world where everything looks like it's made from worn and faded denim, and - bad enough that he's clearly a paranoid schizophrenic - he also starts hallucinating. But this is nothing compared to the scenes that follow. The Greedy, a living, breathing. belching, farting, constantly eating pool of taffy, is so trippy, creepy and ultimately disturbing, you'll hardly believe what you're seeing - this is as close to a drug-free psychedelic experience as I've ever seen on film. Then, after a l-o-n-g time spent with the Greedy, along comes the psychotic Sir Leonard Looney and his master King KooKoo, whose throne resembles a urinal. I can't believe I'm actually writing a capsule description of a real film here - I just had to rub my eyes and remind myself that I'm not blogging about an overwhelmingly whacked-out nightmare I had. Part of the sequence in Looney Land resembles one of the old Winsor McCay / Little Nemo cartoons, for no good reason other than somebody felt like doing it, probably. All this would be fine if there was some kind of rhyme or reason behind it, but there isn't. These scenes are just strange, and very, very long. Surrealism only works when there's a strong idea behind it, or takes place against some semblance of reality. But NOTHING in these scenes points towards any kind of reality. Take away this element, and you're left with pure self indulgence.<br /><br />As the final scenes unravel, even the animation begins to look less impressive (the pirate ship, ludicrously detailed, jerks about on the water in a manner that suggests some of the cels went missing during the production) and there's a non-event of an ending that simply suggests money ran out. Even at a meagre 86 minutes in length, the film feels like a never-ending ordeal, and it's understandable why it flopped on its original release. Animation buffs will probably scratch their heads and wonder just how Williams managed to flub this one so spectacularly, but he did, and there's nothing anyone can do about it.\n",
      "\n",
      "----------------------------------------------------------------------------------------------------\n",
      "predicted 0\n",
      "Actual 1\n",
      "/home/cvh255/nlp_hw1/aclImdb/train/pos/8592_7.txt\n",
      "Good for an evening's entertainment - but the plot was unconvincing. Garrison's affair with the First Lady was unreal and passionless; the President was a cardboard cut-out. And who were the real villains anyway? Nothing was developed or explained sufficiently. I still don't know why they wanted to kill the President or how the mole got involved. The villains were nameless and undeveloped, so you never felt involved in their plot. Michael Douglas and Kiefer Sutherland did their best to inject some reality into the story - the chase and confrontation were good. But Kim Basinger and Eva Longoria were both unbelievable in their roles, Basinger totally lacked character and no way could Longoria have been a Secret Service agent. This could have been a very good film but somehow it missed the way, with too many unanswered questions. Disappointing on the whole despite some very good scenes. And did they use the 'West Wing' set for the White House scenes? - I kept expecting CJ or Charlie to appear!\n",
      "\n",
      "----------------------------------------------------------------------------------------------------\n",
      "predicted 1\n",
      "Actual 0\n",
      "/home/cvh255/nlp_hw1/aclImdb/train/neg/12402_2.txt\n",
      "I always thought people were a little too cynical about these old Andy Hardy films. A couple of them weren't bad. Modern film critics are not ones who usually prefer nice to nasty, so goody-two shoes movies like these rarely get praise<br /><br />Nonetheless, I can't defend this movie either. You can still have an dated dialog but still laugh and cry over the story. Watching this, you just shake your head ask yourself, \"how stupid can you get?\" This is cornier than corny, if you know what I mean. It is so corny I cannot fathom too many people actually sitting through the entire hour-and-a-half.<br /><br />The story basically is \"Andy\" (Mickey Rooney) trying to get out of jam because he makes up some story about involved with some débutante from New York City as if that was the ultimate. People were a lot more social-conscious in the old days. You'd hear the term \"social-climber\" as if knowing rich or beautiful people was the highest achievement you could make it life. It's all utter nonsense, of course, and looks even more so today.<br /><br />However, it's about as innocent and clean a story and series (there were a half dozen of these Andy Hardy films made) as you could find. Also, if you like to hear Judy Garland sing, then this is your ticket, as she sings a couple of songs in here and she croons her way into Andy's heart. Oh man, I almost throw up even writing about this!\n",
      "\n",
      "----------------------------------------------------------------------------------------------------\n",
      "predicted 0\n",
      "Actual 1\n",
      "/home/cvh255/nlp_hw1/aclImdb/train/pos/8313_10.txt\n",
      "First of all, I think the below comment is unworthy for a site like this. Obviously you have no taste and you don't respect the taste of others. Not to give you a history lesson but I think it needs to be done. Black actors out there are just, if not more, successful as others. If you are not a part of the \"Black\" race you cannot understand the quality, creativeness, and vibrant of old movies such as \"Sparkle\" and \"Mahogany\" and \"Cooley High.\" Since unfortunately you are not Black, you do not have the pleasure of feeling what we feel when we watch these classics, so therefore you need to keep your freaking mouth shut and just stick to your non-dancing race. Thanks.\n",
      "\n",
      "----------------------------------------------------------------------------------------------------\n",
      "predicted 0\n",
      "Actual 1\n",
      "/home/cvh255/nlp_hw1/aclImdb/train/pos/351_10.txt\n",
      "It's a colorful slasher movie. That's about it.<br /><br />It has the mystery element that SCREAM made so popular in slasher movies, but I never care for such things. Figuring out who's the bad guy is not that interesting considering the clues are all misleading anyway.<br /><br />The death scenes were inventive and gorey, bringing back memories of 80's horror movies like Friday the 13th. <br /><br />Another nice thing about this movie is that it's hard to pinpoint the surviving girl, unlike in SCREAM and IKWYDLS where it was obvious. <br /><br />People who don't like slasher movies won't like this movie. As simple as that. I truly enjoyed it and I plan to watch it again while waiting for more of the same. <br /><br />--MB\n",
      "\n",
      "----------------------------------------------------------------------------------------------------\n",
      "predicted 1\n",
      "Actual 0\n",
      "/home/cvh255/nlp_hw1/aclImdb/train/neg/153_1.txt\n",
      "\"Spielberg loves the smell of sentiment in the morning. But sentiment at the expense of narrative honesty? Nobody should love that.\" - Lucius Shepard<br /><br />\"The Color Purple\" takes place in the Deep South during the early 1900s, and tells the story of Celie and Nettie, two African American sisters. The film opens with the girls playing in a field of purple flowers, an idyllic haven which is promptly shattered by the appearance of their stepfather. This motif  innocence interrupted by men  permeates the entire film.<br /><br />The film then launches into a series of short sequences. Celie is revealed to have been twice impregnated by her stepfather, gives birth in a dirty barn, has her newborn child taken away and is forced to marry a local widow named Albert Johnson, a violent oaf who rapes her repeatedly, forcing her to cook, clean and look after his children.<br /><br />All these horrific scenes are given little screen time, and are instead surrounded by moments of pixie-dust cinematography, a meddlesome symphonic score, incongruous comedy and overly exuberant camera work. The cumulative effect is like the merging of a Disney cartoon and a rape movie, a jarring aesthetic which caused Stanley Kubrick to remark that \"The Color Purple\" made him so nauseated that he had to turn it off after ten minutes. Ten minutes? He lasted a long time.<br /><br />The film is often said to deal which \"racism\", \"sexism\" and \"black culture\", but this is not true. Alice Walker, the author of the novel upon which the film is based, claims to be a bisexual but is actually a closet lesbian. Her book is a lesbian fantasy, a story of female liberation and self-discovery, which paints men as violent brutes who stymie women. For Walker, the only way out of this maze is for women to bond together in a kind of lesbian utopia, black sisterhood and female independence celebrated.<br /><br />Spielberg's film, however, re-frames Walker's story through the lens of comforting American mythologies. This is a film in which the salvific power of Christianity overcomes the natural cruelty of men. A film in which Albert finds himself in various ridiculous situations, moments of misplaced comedy inserted to make him look like a bumbling fool. A film in which all the characters are derived from racist minstrel shows, the cast comprised of lecherous men (always beaming with devilish smiles and toothy grins), stereotypical fat mammies, jazz bands and gospel choirs. <br /><br />This is a film in which black people are naturally childlike, readily and happily accepting their social conditions. A film in which black people are over-sexed, carnal sensualists dominated by violent passions. A film in which poverty and class issues are entirely invisible (Albert lives in a huge house) and black men are completely inept. This is not the Old South, this is the Old South as derived from \"Gone With The Wind\", MGM Muscals, \"Song of the South\", Warner Cartoons, \"Halleluha!\" and banned Disney movies. In other words, it's the South as seen by a child raised on 50s TV. It's all so cartoonish, so racist in the way it reduces these human beings to one dimensional ethnic stereotypes, that black novelist Ishmael Reed famously likened it to a Nazi conspiracy.<br /><br />Of course, in typical Spielberg fashion the film ends with family bonds being healed. This reconciliation was in Walker's novel, but Spielberg goes further by having every character in the story reconcile with their kin.<br /><br />Beyond Walker's hate letter to black men and Spielberg's bizarre caricaturing of black life, we are shown nothing of the black community. We have only the vaguest ideas as to how any of these characters make a living and no insight into how they interact with others in their community. Instead, Spielberg's camera jumps about, desperately fighting for our attention (one of Celie's kitchen contraptions seems like it belongs in a \"Home Alone\" movie), every emotion over played, the director never stopping to just observe something or to allow a little bit of life to simply pass by. Couple this with Quincy Jones' ridiculously \"white\" music, and you have one of the strangest films in cinema history: an angry feminist tract filmed by a white Jew in the style of Disney and Griffith, scored by a black man trying to emulate John Williams.<br /><br />Problematic too is the lack of white characters. Consider this: the men in this film aren't portrayed as being rough to each other, nor do they dominate women because they are brutalised by a racist society which reduces their manhood. No, they are cruel by nature. And the women, whether quietly suffering like Celie or rebellious and tough like her sister, persevere and survive only because the men are too stupid to destroy them. A better film would not have focused solely on the oppression of women as it occurs among the oppressed, rather, it would have shown that it is societal abuse which has led to spousal abuse, that enslaved black women are forced to perform the very same tasks as their male counterparts (whilst still fulfilling traditional female roles) and that African American domestic violence occurs largely because of economic factors, women unable to support themselves and their children alone.<br /><br />And so there's a hidden ideology at work here. Late in the film one character tells another that since he didn't respect his wife, she wound up getting severely beaten and imprisoned by whites. The implication is that blacks need to return to their African roots to restore their own dignity and that it is their fault that whites unjustly crush them. ie- Respect one another in your poor minority community and you won't run afoul of the dominant white culture. <br /><br />3/10 - A failure to confront sex and lesbianism, inappropriate musical numbers, countless sequence loaded with extraneous visual pizazz, incongruous comic business, emphatic music cues, and wildly hyped emotionality, all contribute to rendering \"The Color Purple\" worthless.\n",
      "\n",
      "----------------------------------------------------------------------------------------------------\n",
      "predicted 1\n",
      "Actual 0\n",
      "/home/cvh255/nlp_hw1/aclImdb/train/neg/3508_4.txt\n",
      "Despite the overwhelming cult following for this sad \"documentary,\" I must admit to having cordially loathed the film which struck our party as far more a distressing exploitation piece than usefully informative. That said, after seeing the magnificent stage musical drawn from it, one can appreciate what the film might have been in surer hands. <br /><br />One suspects that those many of us who actively suffered through the film may have had any campy delights its crueler fans enjoyed destroyed by the uncomfortable suspicion that too many of us - or those we know - are only a misstep or two away from the deplorable plight of the two mad women depicted who live in and contribute to a squalor they seem incapable of controlling or escaping.<br /><br />The film leaves the viewer desperately wondering how any person could have slid to this level of degradation and, unlike the musical, offers no cautionary clues or explanations, only a horror show unredeemed by humor or insight. <br /><br />This soul crushing flatness of the film makes the achievement of the stage version (hopefully to be filmed ultimately for cable) all the more remarkable. Act II is faithful in almost every detail to the film under discussion but strangely, setting the sad inmates' plight to music, raises the human tragedy to art. Even more important, this act is preceded by a fine Act I where we meet the women before their decent into mutually enabled madness, and are offered hints how their isolated purgatory came about. In short, everything which the FILM is lacking.<br /><br />To the filmmakers' credit (or their successors), the excellent Criterion DVD release includes out-takes and bonus material that partially redeem the main film - behind the scenes photographs, interviews and commentary - filling in some of the blank spots the original editing consciously decided to omit in its drive for unadulterated horror and depression. They can't make the amateurish film itself satisfying, but they can at least make it a bit more comprehensible. <br /><br />Ultimately though, it is only the remarkable stage piece inspired by and drawn from it by book writer Doug Wright, composer Scott Frankel and lyricist Michael Korie which raises the rating of the original GREY GARDENS above a single (generous) star.\n",
      "\n",
      "----------------------------------------------------------------------------------------------------\n",
      "predicted 0\n",
      "Actual 1\n",
      "/home/cvh255/nlp_hw1/aclImdb/train/pos/2411_9.txt\n",
      "This movie strikes me as one of the most successful attempts ever at coming up with plausible answers for some of the nagging questions that have cropped up in recent scholarship concerning the \"Passion\" (suffering and death of Christ) accounts in the New Testament. (What motivated Judas if money was not the issue? What could bring the Sanhedrin to meet on a high holy day? Why did Pilate waffle?) It is a movie for the serious, thinking Christian: fans of \"The Passion of the Christ\" will no doubt be disappointed by the lack of gory spectacle and arch characterization. As for myself, I find the portrait painted here--of the willingness of ordinary people to so blithely sacrifice common decency when their own self-interest is at stake--far more realistic and deeply unsettling. (The disinterested, \"just doing my job\" look on the face of the man who drives the first nail in Christ's wrist is as chilling as any moment in film.) The film makes no claim to \"authenticity\", but the settings and costuming invariably feel more \"right\" than many more highly acclaimed efforts. It is a slow film but, if you accept its self-imposed limits (it is, after all, \"The Death\"--not the Life--\"of Christ\"), ultimately a very rewarding one.\n",
      "\n",
      "----------------------------------------------------------------------------------------------------\n",
      "predicted 0\n",
      "Actual 1\n",
      "/home/cvh255/nlp_hw1/aclImdb/train/pos/10514_8.txt\n",
      "Emma is a horribly flawed film based on Jane Austens classic novel. I have not read the book so I really didn't know that much about the plot, and yet I still predicted nearly the entire plot. There were also many scenes that frustrated me because of the bad writing or directing. The film is though for some reason very entertaining and I loved it. Of course there were all the scenes I disliked but the majority was well acted and funny. Gwyneth Paltrow gives one of her best performances as the heroine in Emma. The film also stars Toni Collette(Who has okay but has been much better) Ewan Mecgreger(Who has also been better but he is still very good here) Alan Cumming(Who I have never really been impressed with and is pretty much the same here) and Jeremy Northam(Who's performance is rather wooden at first look but actually fairly subtle, even if that was not what it needed) There have been much better adaptations of Jane Austen books but this one is still very entertaining and worth watching.\n",
      "\n",
      "----------------------------------------------------------------------------------------------------\n",
      "predicted 1\n",
      "Actual 0\n",
      "/home/cvh255/nlp_hw1/aclImdb/train/neg/3008_3.txt\n",
      "A group of people are invited to there high school reunion, but after they arrive they discover it to be a scam by an old classmate they played an almost fatal prank on. Now, he seeks to get revenge on all those that hurt him by sealing all the exits and cutting off all telephone lines.<br /><br />Dark slasher film with an unexceptional premise. Bringing it up a notch are a few good performances, some rather creative death scenes, plenty of excitement & scares, some humor and an original ending.<br /><br />Unrated for Extreme Violence, Graphic Nudity, Sexual Situations, Profanity and Drug Use.\n",
      "\n",
      "----------------------------------------------------------------------------------------------------\n",
      "predicted 0\n",
      "Actual 1\n",
      "/home/cvh255/nlp_hw1/aclImdb/train/pos/10790_8.txt\n",
      "This incredibly formulaic flick from the \"Walker, Texas Ranger\" squad contains some of the most unbelievable scenes ever witnessed within a TV movie. In addition, one can pretty much predict the outcome from the get-go. However, it's a fun little movie that gets the job done: it entertains. That's all it was meant to do and it does so. The stunts and explosions are fun and exciting and the plot isn't half bad. The acting is also decent, which isn't much of a surprise, because everyone knows that Chuck Norris is no Steven Seagal. If you're a fan of the genre (and of \"Walker, Texas Ranger\"), you will definitely love this. If not, then don't waste your time. 8/10\n",
      "\n",
      "----------------------------------------------------------------------------------------------------\n"
     ]
    }
   ],
   "source": [
    "for i in range(len(fns)):\n",
    "    print(\"predicted\",pred_false[i][0])\n",
    "    print(\"Actual\",actual_out[i])\n",
    "    print(val_df[val_df['file_names'] ==fns[i]][\"file_names\"].values[0])\n",
    "    f = open(val_df[val_df['file_names'] ==fns[i]][\"file_names\"].values[0])\n",
    "    print(f.read())\n",
    "    print()\n",
    "    print(\"-\"*100)"
   ]
  },
  {
   "cell_type": "code",
   "execution_count": null,
   "metadata": {},
   "outputs": [],
   "source": []
  }
 ],
 "metadata": {
  "kernelspec": {
   "display_name": "Python 3",
   "language": "python",
   "name": "python3"
  },
  "language_info": {
   "codemirror_mode": {
    "name": "ipython",
    "version": 3
   },
   "file_extension": ".py",
   "mimetype": "text/x-python",
   "name": "python",
   "nbconvert_exporter": "python",
   "pygments_lexer": "ipython3",
   "version": "3.6.3"
  }
 },
 "nbformat": 4,
 "nbformat_minor": 2
}
