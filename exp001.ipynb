{
 "cells": [
  {
   "cell_type": "code",
   "execution_count": 1,
   "metadata": {},
   "outputs": [],
   "source": [
    "import pandas as pd\n",
    "import numpy as np\n",
    "import os\n",
    "from sklearn.model_selection import StratifiedShuffleSplit\n",
    "MAX_SENTENCE_LENGTH = 400\n",
    "\n",
    "import numpy as np\n",
    "import torch\n",
    "from torch.utils.data import Dataset"
   ]
  },
  {
   "cell_type": "code",
   "execution_count": 3,
   "metadata": {},
   "outputs": [],
   "source": [
    "import spacy\n",
    "tokenize = spacy.load('en_core_web_sm')"
   ]
  },
  {
   "cell_type": "code",
   "execution_count": 2,
   "metadata": {},
   "outputs": [
    {
     "name": "stdout",
     "output_type": "stream",
     "text": [
      "0.4.1\n"
     ]
    }
   ],
   "source": [
    "import torch\n",
    "print(torch.__version__)"
   ]
  },
  {
   "cell_type": "code",
   "execution_count": 4,
   "metadata": {},
   "outputs": [],
   "source": [
    "path_train_pos = \"/home/cvh255/nlp_hw1/aclImdb/train/pos/\"\n",
    "path_train_neg = \"/home/cvh255/nlp_hw1/aclImdb/train/neg/\""
   ]
  },
  {
   "cell_type": "code",
   "execution_count": 5,
   "metadata": {},
   "outputs": [],
   "source": [
    "train_pos_files = os.listdir(path_train_pos)\n",
    "for f in range(len(train_pos_files)):\n",
    "    train_pos_files[f] = path_train_pos + train_pos_files[f]"
   ]
  },
  {
   "cell_type": "code",
   "execution_count": 6,
   "metadata": {},
   "outputs": [],
   "source": [
    "train_neg_files = os.listdir(path_train_neg)\n",
    "for f in range(len(train_neg_files)):\n",
    "    train_neg_files[f] = path_train_neg + train_neg_files[f]"
   ]
  },
  {
   "cell_type": "code",
   "execution_count": 7,
   "metadata": {},
   "outputs": [],
   "source": [
    "train_pos_labels = [1]*len(train_pos_files)\n",
    "train_neg_labels = [0]*len(train_neg_files)"
   ]
  },
  {
   "cell_type": "code",
   "execution_count": 8,
   "metadata": {},
   "outputs": [],
   "source": [
    "df = pd.DataFrame(columns=[\"file_names\",\"labels\"])\n",
    "df[\"file_names\"] = train_pos_files+train_neg_files\n",
    "df[\"labels\"] = train_pos_labels+train_neg_labels"
   ]
  },
  {
   "cell_type": "code",
   "execution_count": 9,
   "metadata": {},
   "outputs": [
    {
     "data": {
      "text/plain": [
       "(25000, 2)"
      ]
     },
     "execution_count": 9,
     "metadata": {},
     "output_type": "execute_result"
    }
   ],
   "source": [
    "df.shape"
   ]
  },
  {
   "cell_type": "code",
   "execution_count": 10,
   "metadata": {},
   "outputs": [
    {
     "data": {
      "text/html": [
       "<div>\n",
       "<style scoped>\n",
       "    .dataframe tbody tr th:only-of-type {\n",
       "        vertical-align: middle;\n",
       "    }\n",
       "\n",
       "    .dataframe tbody tr th {\n",
       "        vertical-align: top;\n",
       "    }\n",
       "\n",
       "    .dataframe thead th {\n",
       "        text-align: right;\n",
       "    }\n",
       "</style>\n",
       "<table border=\"1\" class=\"dataframe\">\n",
       "  <thead>\n",
       "    <tr style=\"text-align: right;\">\n",
       "      <th></th>\n",
       "      <th>file_names</th>\n",
       "      <th>labels</th>\n",
       "    </tr>\n",
       "  </thead>\n",
       "  <tbody>\n",
       "    <tr>\n",
       "      <th>0</th>\n",
       "      <td>/home/cvh255/nlp_hw1/aclImdb/train/pos/9258_10...</td>\n",
       "      <td>1</td>\n",
       "    </tr>\n",
       "    <tr>\n",
       "      <th>1</th>\n",
       "      <td>/home/cvh255/nlp_hw1/aclImdb/train/pos/3_10.txt</td>\n",
       "      <td>1</td>\n",
       "    </tr>\n",
       "    <tr>\n",
       "      <th>2</th>\n",
       "      <td>/home/cvh255/nlp_hw1/aclImdb/train/pos/9597_10...</td>\n",
       "      <td>1</td>\n",
       "    </tr>\n",
       "    <tr>\n",
       "      <th>3</th>\n",
       "      <td>/home/cvh255/nlp_hw1/aclImdb/train/pos/3347_7.txt</td>\n",
       "      <td>1</td>\n",
       "    </tr>\n",
       "    <tr>\n",
       "      <th>4</th>\n",
       "      <td>/home/cvh255/nlp_hw1/aclImdb/train/pos/2160_8.txt</td>\n",
       "      <td>1</td>\n",
       "    </tr>\n",
       "  </tbody>\n",
       "</table>\n",
       "</div>"
      ],
      "text/plain": [
       "                                          file_names  labels\n",
       "0  /home/cvh255/nlp_hw1/aclImdb/train/pos/9258_10...       1\n",
       "1    /home/cvh255/nlp_hw1/aclImdb/train/pos/3_10.txt       1\n",
       "2  /home/cvh255/nlp_hw1/aclImdb/train/pos/9597_10...       1\n",
       "3  /home/cvh255/nlp_hw1/aclImdb/train/pos/3347_7.txt       1\n",
       "4  /home/cvh255/nlp_hw1/aclImdb/train/pos/2160_8.txt       1"
      ]
     },
     "execution_count": 10,
     "metadata": {},
     "output_type": "execute_result"
    }
   ],
   "source": [
    "df.head()"
   ]
  },
  {
   "cell_type": "code",
   "execution_count": 11,
   "metadata": {},
   "outputs": [],
   "source": [
    "sss = StratifiedShuffleSplit(n_splits=5, test_size=0.2, random_state=0)\n",
    "for train_index, test_index in sss.split(df[\"file_names\"], df[\"labels\"]):\n",
    "    train_df = df.iloc[train_index]\n",
    "    val_df = df.iloc[test_index]"
   ]
  },
  {
   "cell_type": "code",
   "execution_count": 12,
   "metadata": {},
   "outputs": [
    {
     "data": {
      "text/plain": [
       "((20000, 2), (5000, 2))"
      ]
     },
     "execution_count": 12,
     "metadata": {},
     "output_type": "execute_result"
    }
   ],
   "source": [
    "train_df.shape,val_df.shape"
   ]
  },
  {
   "cell_type": "code",
   "execution_count": 13,
   "metadata": {},
   "outputs": [],
   "source": [
    "def get_data(df):\n",
    "    all_txt = []\n",
    "    for i,j in df.iterrows():\n",
    "        f = open(j[\"file_names\"])\n",
    "        txt = f.read()\n",
    "        all_txt.append(txt)\n",
    "#         print(j)\n",
    "    df[\"content\"] = all_txt\n",
    "    return df"
   ]
  },
  {
   "cell_type": "code",
   "execution_count": 14,
   "metadata": {},
   "outputs": [
    {
     "ename": "AttributeError",
     "evalue": "module 'sys' has no attribute 'setdefaultencoding'",
     "output_type": "error",
     "traceback": [
      "\u001b[0;31m---------------------------------------------------------------------------\u001b[0m",
      "\u001b[0;31mAttributeError\u001b[0m                            Traceback (most recent call last)",
      "\u001b[0;32m<ipython-input-14-a8fef1f713b0>\u001b[0m in \u001b[0;36m<module>\u001b[0;34m()\u001b[0m\n\u001b[1;32m      2\u001b[0m \u001b[0;34m\u001b[0m\u001b[0m\n\u001b[1;32m      3\u001b[0m \u001b[0;31m# reload(sys)\u001b[0m\u001b[0;34m\u001b[0m\u001b[0;34m\u001b[0m\u001b[0m\n\u001b[0;32m----> 4\u001b[0;31m \u001b[0msys\u001b[0m\u001b[0;34m.\u001b[0m\u001b[0msetdefaultencoding\u001b[0m\u001b[0;34m(\u001b[0m\u001b[0;34m'utf8'\u001b[0m\u001b[0;34m)\u001b[0m\u001b[0;34m\u001b[0m\u001b[0m\n\u001b[0m",
      "\u001b[0;31mAttributeError\u001b[0m: module 'sys' has no attribute 'setdefaultencoding'"
     ]
    }
   ],
   "source": [
    "import sys  \n",
    "\n",
    "# reload(sys)  \n",
    "sys.setdefaultencoding('utf8')"
   ]
  },
  {
   "cell_type": "code",
   "execution_count": 15,
   "metadata": {},
   "outputs": [
    {
     "ename": "UnicodeDecodeError",
     "evalue": "'ascii' codec can't decode byte 0xc2 in position 1774: ordinal not in range(128)",
     "output_type": "error",
     "traceback": [
      "\u001b[0;31m---------------------------------------------------------------------------\u001b[0m",
      "\u001b[0;31mUnicodeDecodeError\u001b[0m                        Traceback (most recent call last)",
      "\u001b[0;32m<ipython-input-15-e0a7d1347694>\u001b[0m in \u001b[0;36m<module>\u001b[0;34m()\u001b[0m\n\u001b[0;32m----> 1\u001b[0;31m \u001b[0mtrain_df\u001b[0m \u001b[0;34m=\u001b[0m \u001b[0mget_data\u001b[0m\u001b[0;34m(\u001b[0m\u001b[0mtrain_df\u001b[0m\u001b[0;34m)\u001b[0m\u001b[0;34m\u001b[0m\u001b[0m\n\u001b[0m\u001b[1;32m      2\u001b[0m \u001b[0mval_df\u001b[0m \u001b[0;34m=\u001b[0m \u001b[0mget_data\u001b[0m\u001b[0;34m(\u001b[0m\u001b[0mval_df\u001b[0m\u001b[0;34m)\u001b[0m\u001b[0;34m\u001b[0m\u001b[0m\n",
      "\u001b[0;32m<ipython-input-13-460620254da9>\u001b[0m in \u001b[0;36mget_data\u001b[0;34m(df)\u001b[0m\n\u001b[1;32m      3\u001b[0m     \u001b[0;32mfor\u001b[0m \u001b[0mi\u001b[0m\u001b[0;34m,\u001b[0m\u001b[0mj\u001b[0m \u001b[0;32min\u001b[0m \u001b[0mdf\u001b[0m\u001b[0;34m.\u001b[0m\u001b[0miterrows\u001b[0m\u001b[0;34m(\u001b[0m\u001b[0;34m)\u001b[0m\u001b[0;34m:\u001b[0m\u001b[0;34m\u001b[0m\u001b[0m\n\u001b[1;32m      4\u001b[0m         \u001b[0mf\u001b[0m \u001b[0;34m=\u001b[0m \u001b[0mopen\u001b[0m\u001b[0;34m(\u001b[0m\u001b[0mj\u001b[0m\u001b[0;34m[\u001b[0m\u001b[0;34m\"file_names\"\u001b[0m\u001b[0;34m]\u001b[0m\u001b[0;34m)\u001b[0m\u001b[0;34m\u001b[0m\u001b[0m\n\u001b[0;32m----> 5\u001b[0;31m         \u001b[0mtxt\u001b[0m \u001b[0;34m=\u001b[0m \u001b[0mf\u001b[0m\u001b[0;34m.\u001b[0m\u001b[0mread\u001b[0m\u001b[0;34m(\u001b[0m\u001b[0;34m)\u001b[0m\u001b[0;34m\u001b[0m\u001b[0m\n\u001b[0m\u001b[1;32m      6\u001b[0m         \u001b[0mall_txt\u001b[0m\u001b[0;34m.\u001b[0m\u001b[0mappend\u001b[0m\u001b[0;34m(\u001b[0m\u001b[0mtxt\u001b[0m\u001b[0;34m)\u001b[0m\u001b[0;34m\u001b[0m\u001b[0m\n\u001b[1;32m      7\u001b[0m \u001b[0;31m#         print(j)\u001b[0m\u001b[0;34m\u001b[0m\u001b[0;34m\u001b[0m\u001b[0m\n",
      "\u001b[0;32m~/pyenv/py3.6.3/lib/python3.6/encodings/ascii.py\u001b[0m in \u001b[0;36mdecode\u001b[0;34m(self, input, final)\u001b[0m\n\u001b[1;32m     24\u001b[0m \u001b[0;32mclass\u001b[0m \u001b[0mIncrementalDecoder\u001b[0m\u001b[0;34m(\u001b[0m\u001b[0mcodecs\u001b[0m\u001b[0;34m.\u001b[0m\u001b[0mIncrementalDecoder\u001b[0m\u001b[0;34m)\u001b[0m\u001b[0;34m:\u001b[0m\u001b[0;34m\u001b[0m\u001b[0m\n\u001b[1;32m     25\u001b[0m     \u001b[0;32mdef\u001b[0m \u001b[0mdecode\u001b[0m\u001b[0;34m(\u001b[0m\u001b[0mself\u001b[0m\u001b[0;34m,\u001b[0m \u001b[0minput\u001b[0m\u001b[0;34m,\u001b[0m \u001b[0mfinal\u001b[0m\u001b[0;34m=\u001b[0m\u001b[0;32mFalse\u001b[0m\u001b[0;34m)\u001b[0m\u001b[0;34m:\u001b[0m\u001b[0;34m\u001b[0m\u001b[0m\n\u001b[0;32m---> 26\u001b[0;31m         \u001b[0;32mreturn\u001b[0m \u001b[0mcodecs\u001b[0m\u001b[0;34m.\u001b[0m\u001b[0mascii_decode\u001b[0m\u001b[0;34m(\u001b[0m\u001b[0minput\u001b[0m\u001b[0;34m,\u001b[0m \u001b[0mself\u001b[0m\u001b[0;34m.\u001b[0m\u001b[0merrors\u001b[0m\u001b[0;34m)\u001b[0m\u001b[0;34m[\u001b[0m\u001b[0;36m0\u001b[0m\u001b[0;34m]\u001b[0m\u001b[0;34m\u001b[0m\u001b[0m\n\u001b[0m\u001b[1;32m     27\u001b[0m \u001b[0;34m\u001b[0m\u001b[0m\n\u001b[1;32m     28\u001b[0m \u001b[0;32mclass\u001b[0m \u001b[0mStreamWriter\u001b[0m\u001b[0;34m(\u001b[0m\u001b[0mCodec\u001b[0m\u001b[0;34m,\u001b[0m\u001b[0mcodecs\u001b[0m\u001b[0;34m.\u001b[0m\u001b[0mStreamWriter\u001b[0m\u001b[0;34m)\u001b[0m\u001b[0;34m:\u001b[0m\u001b[0;34m\u001b[0m\u001b[0m\n",
      "\u001b[0;31mUnicodeDecodeError\u001b[0m: 'ascii' codec can't decode byte 0xc2 in position 1774: ordinal not in range(128)"
     ]
    }
   ],
   "source": [
    "train_df = get_data(train_df)\n",
    "val_df = get_data(val_df)"
   ]
  },
  {
   "cell_type": "code",
   "execution_count": 15,
   "metadata": {},
   "outputs": [],
   "source": [
    "import string\n",
    "punctuations = string.punctuation\n",
    "def tokenize1(phrase):\n",
    "    tokens = tokenize(phrase)\n",
    "    return [token.text.lower() for token in tokens if (token.text not in punctuations)]\n",
    "    "
   ]
  },
  {
   "cell_type": "code",
   "execution_count": 16,
   "metadata": {},
   "outputs": [],
   "source": [
    "def tokenize_dataset1(dataset,n_gram):\n",
    "    token_dataset = []\n",
    "    all_tokens = []\n",
    "    for sample in dataset:\n",
    "        tokens = tokenize1(sample)\n",
    "        token_dataset.append(tokens)\n",
    "        all_tokens+=tokens\n",
    "    return token_dataset, all_tokens"
   ]
  },
  {
   "cell_type": "code",
   "execution_count": 17,
   "metadata": {},
   "outputs": [
    {
     "name": "stdout",
     "output_type": "stream",
     "text": [
      "Tokenizing val data\n"
     ]
    },
    {
     "name": "stderr",
     "output_type": "stream",
     "text": [
      "/home/cvh255/pyenv/py3.6.3/lib/python3.6/site-packages/ipykernel_launcher.py:2: SettingWithCopyWarning: \n",
      "A value is trying to be set on a copy of a slice from a DataFrame.\n",
      "Try using .loc[row_indexer,col_indexer] = value instead\n",
      "\n",
      "See the caveats in the documentation: http://pandas.pydata.org/pandas-docs/stable/indexing.html#indexing-view-versus-copy\n",
      "  \n"
     ]
    },
    {
     "name": "stdout",
     "output_type": "stream",
     "text": [
      "Tokenizing train data\n"
     ]
    },
    {
     "name": "stderr",
     "output_type": "stream",
     "text": [
      "/home/cvh255/pyenv/py3.6.3/lib/python3.6/site-packages/ipykernel_launcher.py:7: SettingWithCopyWarning: \n",
      "A value is trying to be set on a copy of a slice from a DataFrame.\n",
      "Try using .loc[row_indexer,col_indexer] = value instead\n",
      "\n",
      "See the caveats in the documentation: http://pandas.pydata.org/pandas-docs/stable/indexing.html#indexing-view-versus-copy\n",
      "  import sys\n"
     ]
    }
   ],
   "source": [
    "print (\"Tokenizing val data\")\n",
    "val_df[\"tokenized1\"], _ = tokenize_dataset1(val_df[\"content\"],1)\n",
    "# pkl.dump(val_data_tokens, open(\"val_data_tokens.p\", \"wb\"))\n",
    "\n",
    "# train set tokens\n",
    "print (\"Tokenizing train data\")\n",
    "train_df[\"tokenized1\"], all_train_tokens = tokenize_dataset1(train_df[\"content\"],1)\n",
    "# pkl.dump(train_data_tokens, open(\"train_data_tokens.p\", \"wb\"))\n",
    "# pkl.dump(all_train_tokens, open(\"all_train_tokens.p\", \"wb\"))"
   ]
  },
  {
   "cell_type": "code",
   "execution_count": 18,
   "metadata": {},
   "outputs": [
    {
     "data": {
      "text/html": [
       "<div>\n",
       "<style scoped>\n",
       "    .dataframe tbody tr th:only-of-type {\n",
       "        vertical-align: middle;\n",
       "    }\n",
       "\n",
       "    .dataframe tbody tr th {\n",
       "        vertical-align: top;\n",
       "    }\n",
       "\n",
       "    .dataframe thead th {\n",
       "        text-align: right;\n",
       "    }\n",
       "</style>\n",
       "<table border=\"1\" class=\"dataframe\">\n",
       "  <thead>\n",
       "    <tr style=\"text-align: right;\">\n",
       "      <th></th>\n",
       "      <th>file_names</th>\n",
       "      <th>labels</th>\n",
       "      <th>content</th>\n",
       "      <th>tokenized1</th>\n",
       "    </tr>\n",
       "  </thead>\n",
       "  <tbody>\n",
       "    <tr>\n",
       "      <th>8283</th>\n",
       "      <td>/home/cvh255/nlp_hw1/aclImdb/train/pos/4793_7.txt</td>\n",
       "      <td>1</td>\n",
       "      <td>After seeing this film I feel like I know just...</td>\n",
       "      <td>[after, seeing, this, film, i, feel, like, i, ...</td>\n",
       "    </tr>\n",
       "    <tr>\n",
       "      <th>10937</th>\n",
       "      <td>/home/cvh255/nlp_hw1/aclImdb/train/pos/11592_1...</td>\n",
       "      <td>1</td>\n",
       "      <td>My son was 7 years old when he saw this movie,...</td>\n",
       "      <td>[my, son, was, 7, years, old, when, he, saw, t...</td>\n",
       "    </tr>\n",
       "    <tr>\n",
       "      <th>9347</th>\n",
       "      <td>/home/cvh255/nlp_hw1/aclImdb/train/pos/3243_8.txt</td>\n",
       "      <td>1</td>\n",
       "      <td>Remember the early days of Pay Per View? I do,...</td>\n",
       "      <td>[remember, the, early, days, of, pay, per, vie...</td>\n",
       "    </tr>\n",
       "    <tr>\n",
       "      <th>5430</th>\n",
       "      <td>/home/cvh255/nlp_hw1/aclImdb/train/pos/10129_7...</td>\n",
       "      <td>1</td>\n",
       "      <td>And that's how the greatest comedy of TV start...</td>\n",
       "      <td>[and, that, 's, how, the, greatest, comedy, of...</td>\n",
       "    </tr>\n",
       "    <tr>\n",
       "      <th>4072</th>\n",
       "      <td>/home/cvh255/nlp_hw1/aclImdb/train/pos/9873_7.txt</td>\n",
       "      <td>1</td>\n",
       "      <td>Lily Mars, a smalltown girl living in Indiana,...</td>\n",
       "      <td>[lily, mars, a, smalltown, girl, living, in, i...</td>\n",
       "    </tr>\n",
       "  </tbody>\n",
       "</table>\n",
       "</div>"
      ],
      "text/plain": [
       "                                              file_names  labels  \\\n",
       "8283   /home/cvh255/nlp_hw1/aclImdb/train/pos/4793_7.txt       1   \n",
       "10937  /home/cvh255/nlp_hw1/aclImdb/train/pos/11592_1...       1   \n",
       "9347   /home/cvh255/nlp_hw1/aclImdb/train/pos/3243_8.txt       1   \n",
       "5430   /home/cvh255/nlp_hw1/aclImdb/train/pos/10129_7...       1   \n",
       "4072   /home/cvh255/nlp_hw1/aclImdb/train/pos/9873_7.txt       1   \n",
       "\n",
       "                                                 content  \\\n",
       "8283   After seeing this film I feel like I know just...   \n",
       "10937  My son was 7 years old when he saw this movie,...   \n",
       "9347   Remember the early days of Pay Per View? I do,...   \n",
       "5430   And that's how the greatest comedy of TV start...   \n",
       "4072   Lily Mars, a smalltown girl living in Indiana,...   \n",
       "\n",
       "                                              tokenized1  \n",
       "8283   [after, seeing, this, film, i, feel, like, i, ...  \n",
       "10937  [my, son, was, 7, years, old, when, he, saw, t...  \n",
       "9347   [remember, the, early, days, of, pay, per, vie...  \n",
       "5430   [and, that, 's, how, the, greatest, comedy, of...  \n",
       "4072   [lily, mars, a, smalltown, girl, living, in, i...  "
      ]
     },
     "execution_count": 18,
     "metadata": {},
     "output_type": "execute_result"
    }
   ],
   "source": [
    "train_df.head()"
   ]
  },
  {
   "cell_type": "code",
   "execution_count": 97,
   "metadata": {},
   "outputs": [],
   "source": [
    "train_df.to_csv(\"train_df_tok1.csv\",index=False)"
   ]
  },
  {
   "cell_type": "code",
   "execution_count": 98,
   "metadata": {},
   "outputs": [],
   "source": [
    "val_df.to_csv(\"val_df_tok1.csv\",index=False)"
   ]
  },
  {
   "cell_type": "code",
   "execution_count": 99,
   "metadata": {},
   "outputs": [],
   "source": [
    "import pickle\n",
    "pickle.dump(all_train_tokens,open(\"all_tokens1\",'wb'))"
   ]
  },
  {
   "cell_type": "code",
   "execution_count": 2,
   "metadata": {},
   "outputs": [],
   "source": [
    "train_df = pd.read_csv(\"train_df_tok1.csv\")\n",
    "val_df = pd.read_csv(\"val_df_tok1.csv\")"
   ]
  },
  {
   "cell_type": "code",
   "execution_count": 3,
   "metadata": {},
   "outputs": [],
   "source": [
    "import pickle\n",
    "all_train_tokens = pickle.load(open(\"all_tokens1\",'rb'))"
   ]
  },
  {
   "cell_type": "code",
   "execution_count": 19,
   "metadata": {},
   "outputs": [],
   "source": [
    "from collections import Counter\n",
    "\n",
    "max_vocab_size = 25000\n",
    "PAD_IDX = 0\n",
    "UNK_IDX = 1\n",
    "\n",
    "def build_vocab(all_tokens):\n",
    "    token_counter = Counter(all_tokens)\n",
    "    vocab, count = zip(*token_counter.most_common(max_vocab_size))\n",
    "    id2token = list(vocab)\n",
    "    token2id = dict(zip(vocab, range(2,2+len(vocab)))) \n",
    "    id2token = ['<pad>', '<unk>'] + id2token\n",
    "    token2id['<pad>'] = PAD_IDX \n",
    "    token2id['<unk>'] = UNK_IDX\n",
    "    return token2id, id2token\n",
    "\n",
    "token2id, id2token = build_vocab(all_train_tokens)"
   ]
  },
  {
   "cell_type": "code",
   "execution_count": 20,
   "metadata": {},
   "outputs": [
    {
     "name": "stdout",
     "output_type": "stream",
     "text": [
      "Token id 12623 ; token problematic\n",
      "Token problematic; token id 12623\n"
     ]
    }
   ],
   "source": [
    "import random\n",
    "random_token_id = random.randint(0, len(id2token)-1)\n",
    "random_token = id2token[random_token_id]\n",
    "\n",
    "print (\"Token id {} ; token {}\".format(random_token_id, id2token[random_token_id]))\n",
    "print (\"Token {}; token id {}\".format(random_token, token2id[random_token]))"
   ]
  },
  {
   "cell_type": "code",
   "execution_count": 21,
   "metadata": {},
   "outputs": [
    {
     "name": "stderr",
     "output_type": "stream",
     "text": [
      "/home/cvh255/pyenv/py3.6.3/lib/python3.6/site-packages/ipykernel_launcher.py:8: SettingWithCopyWarning: \n",
      "A value is trying to be set on a copy of a slice from a DataFrame.\n",
      "Try using .loc[row_indexer,col_indexer] = value instead\n",
      "\n",
      "See the caveats in the documentation: http://pandas.pydata.org/pandas-docs/stable/indexing.html#indexing-view-versus-copy\n",
      "  \n",
      "/home/cvh255/pyenv/py3.6.3/lib/python3.6/site-packages/ipykernel_launcher.py:9: SettingWithCopyWarning: \n",
      "A value is trying to be set on a copy of a slice from a DataFrame.\n",
      "Try using .loc[row_indexer,col_indexer] = value instead\n",
      "\n",
      "See the caveats in the documentation: http://pandas.pydata.org/pandas-docs/stable/indexing.html#indexing-view-versus-copy\n",
      "  if __name__ == '__main__':\n"
     ]
    }
   ],
   "source": [
    "def token2index_dataset(tokens_data):\n",
    "    indices_data = []\n",
    "    for tokens in tokens_data:\n",
    "        index_list = [token2id[token] if token in token2id else UNK_IDX for token in tokens]\n",
    "        indices_data.append(index_list)\n",
    "    return indices_data\n",
    "\n",
    "train_df['token_idized'] = token2index_dataset(train_df['tokenized1'])\n",
    "val_df['token_idized'] = token2index_dataset(val_df['tokenized1'])\n",
    "# test_data_indices = token2index_dataset(test_data_tokens)\n",
    "\n"
   ]
  },
  {
   "cell_type": "code",
   "execution_count": 22,
   "metadata": {},
   "outputs": [
    {
     "data": {
      "text/html": [
       "<div>\n",
       "<style scoped>\n",
       "    .dataframe tbody tr th:only-of-type {\n",
       "        vertical-align: middle;\n",
       "    }\n",
       "\n",
       "    .dataframe tbody tr th {\n",
       "        vertical-align: top;\n",
       "    }\n",
       "\n",
       "    .dataframe thead th {\n",
       "        text-align: right;\n",
       "    }\n",
       "</style>\n",
       "<table border=\"1\" class=\"dataframe\">\n",
       "  <thead>\n",
       "    <tr style=\"text-align: right;\">\n",
       "      <th></th>\n",
       "      <th>file_names</th>\n",
       "      <th>labels</th>\n",
       "      <th>content</th>\n",
       "      <th>tokenized1</th>\n",
       "      <th>token_idized</th>\n",
       "    </tr>\n",
       "  </thead>\n",
       "  <tbody>\n",
       "    <tr>\n",
       "      <th>8283</th>\n",
       "      <td>/home/cvh255/nlp_hw1/aclImdb/train/pos/4793_7.txt</td>\n",
       "      <td>1</td>\n",
       "      <td>After seeing this film I feel like I know just...</td>\n",
       "      <td>[after, seeing, this, film, i, feel, like, i, ...</td>\n",
       "      <td>[106, 319, 11, 21, 10, 234, 39, 10, 125, 44, 4...</td>\n",
       "    </tr>\n",
       "    <tr>\n",
       "      <th>10937</th>\n",
       "      <td>/home/cvh255/nlp_hw1/aclImdb/train/pos/11592_1...</td>\n",
       "      <td>1</td>\n",
       "      <td>My son was 7 years old when he saw this movie,...</td>\n",
       "      <td>[my, son, was, 7, years, old, when, he, saw, t...</td>\n",
       "      <td>[63, 455, 15, 1194, 155, 153, 56, 27, 214, 11,...</td>\n",
       "    </tr>\n",
       "    <tr>\n",
       "      <th>9347</th>\n",
       "      <td>/home/cvh255/nlp_hw1/aclImdb/train/pos/3243_8.txt</td>\n",
       "      <td>1</td>\n",
       "      <td>Remember the early days of Pay Per View? I do,...</td>\n",
       "      <td>[remember, the, early, days, of, pay, per, vie...</td>\n",
       "      <td>[380, 2, 393, 499, 5, 946, 3192, 653, 10, 47, ...</td>\n",
       "    </tr>\n",
       "    <tr>\n",
       "      <th>5430</th>\n",
       "      <td>/home/cvh255/nlp_hw1/aclImdb/train/pos/10129_7...</td>\n",
       "      <td>1</td>\n",
       "      <td>And that's how the greatest comedy of TV start...</td>\n",
       "      <td>[and, that, 's, how, the, greatest, comedy, of...</td>\n",
       "      <td>[3, 12, 13, 92, 2, 808, 216, 5, 243, 629, 8, 4...</td>\n",
       "    </tr>\n",
       "    <tr>\n",
       "      <th>4072</th>\n",
       "      <td>/home/cvh255/nlp_hw1/aclImdb/train/pos/9873_7.txt</td>\n",
       "      <td>1</td>\n",
       "      <td>Lily Mars, a smalltown girl living in Indiana,...</td>\n",
       "      <td>[lily, mars, a, smalltown, girl, living, in, i...</td>\n",
       "      <td>[3350, 4533, 4, 1, 237, 580, 9, 6587, 1318, 5,...</td>\n",
       "    </tr>\n",
       "  </tbody>\n",
       "</table>\n",
       "</div>"
      ],
      "text/plain": [
       "                                              file_names  labels  \\\n",
       "8283   /home/cvh255/nlp_hw1/aclImdb/train/pos/4793_7.txt       1   \n",
       "10937  /home/cvh255/nlp_hw1/aclImdb/train/pos/11592_1...       1   \n",
       "9347   /home/cvh255/nlp_hw1/aclImdb/train/pos/3243_8.txt       1   \n",
       "5430   /home/cvh255/nlp_hw1/aclImdb/train/pos/10129_7...       1   \n",
       "4072   /home/cvh255/nlp_hw1/aclImdb/train/pos/9873_7.txt       1   \n",
       "\n",
       "                                                 content  \\\n",
       "8283   After seeing this film I feel like I know just...   \n",
       "10937  My son was 7 years old when he saw this movie,...   \n",
       "9347   Remember the early days of Pay Per View? I do,...   \n",
       "5430   And that's how the greatest comedy of TV start...   \n",
       "4072   Lily Mars, a smalltown girl living in Indiana,...   \n",
       "\n",
       "                                              tokenized1  \\\n",
       "8283   [after, seeing, this, film, i, feel, like, i, ...   \n",
       "10937  [my, son, was, 7, years, old, when, he, saw, t...   \n",
       "9347   [remember, the, early, days, of, pay, per, vie...   \n",
       "5430   [and, that, 's, how, the, greatest, comedy, of...   \n",
       "4072   [lily, mars, a, smalltown, girl, living, in, i...   \n",
       "\n",
       "                                            token_idized  \n",
       "8283   [106, 319, 11, 21, 10, 234, 39, 10, 125, 44, 4...  \n",
       "10937  [63, 455, 15, 1194, 155, 153, 56, 27, 214, 11,...  \n",
       "9347   [380, 2, 393, 499, 5, 946, 3192, 653, 10, 47, ...  \n",
       "5430   [3, 12, 13, 92, 2, 808, 216, 5, 243, 629, 8, 4...  \n",
       "4072   [3350, 4533, 4, 1, 237, 580, 9, 6587, 1318, 5,...  "
      ]
     },
     "execution_count": 22,
     "metadata": {},
     "output_type": "execute_result"
    }
   ],
   "source": [
    "train_df.head()"
   ]
  },
  {
   "cell_type": "code",
   "execution_count": 23,
   "metadata": {},
   "outputs": [],
   "source": [
    "# train_df.iloc[2,-1]"
   ]
  },
  {
   "cell_type": "code",
   "execution_count": 24,
   "metadata": {},
   "outputs": [],
   "source": [
    "class IMDBDataset(Dataset):\n",
    "    def __init__(self, csv_file):\n",
    "        self.data_frame = csv_file\n",
    "\n",
    "    def __len__(self):\n",
    "        return len(self.data_frame)\n",
    "\n",
    "    def __getitem__(self, idx):\n",
    "#         print(idx,self.data_frame[\"token_idized\"][idx])\n",
    "        token_idx = self.data_frame.iloc[idx][\"token_idized\"]\n",
    "        label = self.data_frame.iloc[idx]['labels']\n",
    "#         print(token_idx)\n",
    "        return [token_idx, len(token_idx), label]\n",
    "\n",
    "\n"
   ]
  },
  {
   "cell_type": "code",
   "execution_count": 25,
   "metadata": {},
   "outputs": [],
   "source": [
    "def pad_fun(batch):\n",
    "    data_list = []\n",
    "    label_list = []\n",
    "    length_list = []\n",
    "#     print(batch[0])\n",
    "    for datum in batch:\n",
    "        label_list.append(datum[2])\n",
    "        length_list.append(datum[1])\n",
    "    for datum in batch:\n",
    "        if datum[1]>MAX_SENTENCE_LENGTH:\n",
    "            padded_vec = np.array(datum[0][:MAX_SENTENCE_LENGTH])\n",
    "        else:\n",
    "            padded_vec = np.pad(np.array(datum[0]), \n",
    "                                pad_width=((0,MAX_SENTENCE_LENGTH - datum[1])), \n",
    "                                mode=\"constant\", constant_values=0)\n",
    "#         print(padded_vec.shape)\n",
    "        data_list.append(padded_vec)\n",
    "    return [torch.from_numpy(np.array(data_list)), torch.from_numpy(np.array(length_list)), torch.from_numpy(np.array(label_list))]"
   ]
  },
  {
   "cell_type": "code",
   "execution_count": 26,
   "metadata": {},
   "outputs": [],
   "source": [
    "BATCH_SIZE = 100\n",
    "train_dataset = IMDBDataset(train_df)\n",
    "train_loader = torch.utils.data.DataLoader(dataset = train_dataset, \n",
    "                                           batch_size = BATCH_SIZE,\n",
    "                                           collate_fn = pad_fun,\n",
    "                                           shuffle = True)\n",
    "\n",
    "val_dataset = IMDBDataset(val_df)\n",
    "val_loader = torch.utils.data.DataLoader(dataset = val_dataset, \n",
    "                                           batch_size = BATCH_SIZE,\n",
    "                                           collate_fn = pad_fun,\n",
    "                                           shuffle = True)\n",
    "\n"
   ]
  },
  {
   "cell_type": "code",
   "execution_count": 27,
   "metadata": {},
   "outputs": [],
   "source": [
    "# next(iter(train_loader))"
   ]
  },
  {
   "cell_type": "code",
   "execution_count": 28,
   "metadata": {
    "scrolled": false
   },
   "outputs": [],
   "source": [
    "# d = next(iter(train_loader))\n"
   ]
  },
  {
   "cell_type": "code",
   "execution_count": 29,
   "metadata": {},
   "outputs": [],
   "source": [
    "import torch\n",
    "import torch.nn as nn\n",
    "import torch.nn.functional as F\n",
    "from torch.autograd import Variable\n",
    "class BagOfWords(nn.Module):\n",
    "    def __init__(self, vocab_size, emb_dim):\n",
    "        super(BagOfWords, self).__init__()\n",
    "        self.embed = nn.Embedding(vocab_size, emb_dim, padding_idx = 0)\n",
    "#         self.linear = nn.Linear(emb_dim,20)\n",
    "        self.linear = nn.Linear(emb_dim,2)\n",
    "#         self.linear2 = nn.Linear(100,300)\n",
    "#         self.linear3 = nn.Linear(300,2)\n",
    "#         self.dp = nn.Dropout(p=0.5)\n",
    "    \n",
    "    def forward(self, data, length):\n",
    "        out = self.embed(data)\n",
    "        out = torch.sum(out, dim=1)\n",
    "        out /= length.view(length.size()[0],1).expand_as(out).float()\n",
    "#         out = F.relu(self.linear(out.float()))\n",
    "#         out = F.relu(self.linear2(out.float()))\n",
    "#         out = self.linear3(out.float())\n",
    "#         print(out.size())\n",
    "        out = self.linear(out.float())\n",
    "        return out\n",
    "\n"
   ]
  },
  {
   "cell_type": "code",
   "execution_count": 30,
   "metadata": {},
   "outputs": [],
   "source": [
    "# next(iter(train_loader))"
   ]
  },
  {
   "cell_type": "code",
   "execution_count": 31,
   "metadata": {},
   "outputs": [],
   "source": [
    "dataloaders = [train_loader,val_loader]"
   ]
  },
  {
   "cell_type": "code",
   "execution_count": 35,
   "metadata": {},
   "outputs": [],
   "source": [
    "import pickle\n",
    "def training(model,criterion, optimizer, model_name, num_epochs,loss_name):\n",
    "    best_loss = np.inf\n",
    "    best_acc = 0\n",
    "    loss_hist = {'train':[],'validate':[]}\n",
    "    for i in range(num_epochs):\n",
    "        for enu,phase in enumerate(['train', 'validate']):\n",
    "            running_loss = 0\n",
    "            running_total = 0\n",
    "            correct = 0\n",
    "            total = 0\n",
    "            if phase == 'train':\n",
    "                model.train(True)\n",
    "            else:\n",
    "                model.train(False)\n",
    "            for (data, lengths, labels) in dataloaders[enu]:\n",
    "                data_batch, length_batch, label_batch = data.cuda(), lengths.cuda(), labels.cuda()\n",
    "                optimizer.zero_grad()\n",
    "                outputs = model(data_batch, length_batch)\n",
    "                loss = criterion(outputs, label_batch)\n",
    "                if phase=='train':\n",
    "                    loss.backward()\n",
    "                    optimizer.step()\n",
    "                N = labels.size(0)\n",
    "                \n",
    "                outputs = F.softmax(model(data_batch, length_batch), dim=1)\n",
    "                predicted = outputs.max(1, keepdim=True)[1]\n",
    "#                 print(type(predicted))\n",
    "                total += labels.size(0)\n",
    "                correct += predicted.eq(labels.view_as(predicted).cuda()).sum().item()\n",
    "                running_loss += loss.data[0] * N\n",
    "                running_total += N\n",
    "            epoch_loss = running_loss/running_total\n",
    "            loss_hist[phase].append(epoch_loss.item())\n",
    "            accuracy = 100 * correct / total\n",
    "            print('Epoch: {}, Phase: {}, epoch loss: {:.4f}, accuracy: {:.4f}'\\\n",
    "                      .format(i,phase,epoch_loss, accuracy))\n",
    "        if phase == 'validate' and epoch_loss < best_loss:\n",
    "            best_loss = epoch_loss\n",
    "            best_acc = accuracy\n",
    "            torch.save(model,model_name)\n",
    "    print('Best val loss: {:4f}, Best Accuracy: {:4f}'.format(best_loss,best_acc))\n",
    "    pickle.dump(loss_hist,open(loss_name,'wb'))\n"
   ]
  },
  {
   "cell_type": "code",
   "execution_count": 36,
   "metadata": {},
   "outputs": [
    {
     "name": "stderr",
     "output_type": "stream",
     "text": [
      "/home/cvh255/pyenv/py3.6.3/lib/python3.6/site-packages/ipykernel_launcher.py:31: UserWarning: invalid index of a 0-dim tensor. This will be an error in PyTorch 0.5. Use tensor.item() to convert a 0-dim tensor to a Python number\n"
     ]
    },
    {
     "name": "stdout",
     "output_type": "stream",
     "text": [
      "Epoch: 0, Phase: train, epoch loss: 0.6887, accuracy: 54.8700\n",
      "Epoch: 0, Phase: validate, epoch loss: 0.6846, accuracy: 59.6800\n"
     ]
    },
    {
     "name": "stderr",
     "output_type": "stream",
     "text": [
      "/home/cvh255/pyenv/py3.6.3/lib/python3.6/site-packages/torch/serialization.py:241: UserWarning: Couldn't retrieve source code for container of type BagOfWords. It won't be checked for correctness upon loading.\n",
      "  \"type \" + obj.__name__ + \". It won't be checked \"\n"
     ]
    },
    {
     "name": "stdout",
     "output_type": "stream",
     "text": [
      "Epoch: 1, Phase: train, epoch loss: 0.6835, accuracy: 60.2500\n",
      "Epoch: 1, Phase: validate, epoch loss: 0.6806, accuracy: 62.3400\n",
      "Epoch: 2, Phase: train, epoch loss: 0.6796, accuracy: 62.4350\n",
      "Epoch: 2, Phase: validate, epoch loss: 0.6769, accuracy: 64.0800\n",
      "Epoch: 3, Phase: train, epoch loss: 0.6761, accuracy: 63.6600\n",
      "Epoch: 3, Phase: validate, epoch loss: 0.6735, accuracy: 65.0400\n",
      "Epoch: 4, Phase: train, epoch loss: 0.6728, accuracy: 64.1400\n",
      "Epoch: 4, Phase: validate, epoch loss: 0.6702, accuracy: 65.0800\n",
      "Epoch: 5, Phase: train, epoch loss: 0.6697, accuracy: 64.5450\n",
      "Epoch: 5, Phase: validate, epoch loss: 0.6673, accuracy: 65.2600\n",
      "Epoch: 6, Phase: train, epoch loss: 0.6668, accuracy: 65.2350\n",
      "Epoch: 6, Phase: validate, epoch loss: 0.6645, accuracy: 65.7000\n",
      "Epoch: 7, Phase: train, epoch loss: 0.6641, accuracy: 65.3300\n",
      "Epoch: 7, Phase: validate, epoch loss: 0.6618, accuracy: 65.9800\n",
      "Epoch: 8, Phase: train, epoch loss: 0.6616, accuracy: 65.3650\n",
      "Epoch: 8, Phase: validate, epoch loss: 0.6593, accuracy: 66.1400\n",
      "Epoch: 9, Phase: train, epoch loss: 0.6591, accuracy: 65.7350\n",
      "Epoch: 9, Phase: validate, epoch loss: 0.6570, accuracy: 66.2600\n",
      "Epoch: 10, Phase: train, epoch loss: 0.6568, accuracy: 65.9550\n",
      "Epoch: 10, Phase: validate, epoch loss: 0.6547, accuracy: 66.4400\n",
      "Epoch: 11, Phase: train, epoch loss: 0.6546, accuracy: 65.8850\n",
      "Epoch: 11, Phase: validate, epoch loss: 0.6526, accuracy: 66.5000\n",
      "Epoch: 12, Phase: train, epoch loss: 0.6526, accuracy: 66.1350\n",
      "Epoch: 12, Phase: validate, epoch loss: 0.6506, accuracy: 66.5600\n",
      "Epoch: 13, Phase: train, epoch loss: 0.6506, accuracy: 66.2550\n",
      "Epoch: 13, Phase: validate, epoch loss: 0.6487, accuracy: 66.7200\n",
      "Epoch: 14, Phase: train, epoch loss: 0.6487, accuracy: 66.2750\n",
      "Epoch: 14, Phase: validate, epoch loss: 0.6468, accuracy: 66.8800\n",
      "Epoch: 15, Phase: train, epoch loss: 0.6469, accuracy: 66.4650\n",
      "Epoch: 15, Phase: validate, epoch loss: 0.6451, accuracy: 67.0000\n",
      "Epoch: 16, Phase: train, epoch loss: 0.6451, accuracy: 66.6250\n",
      "Epoch: 16, Phase: validate, epoch loss: 0.6434, accuracy: 67.0400\n",
      "Epoch: 17, Phase: train, epoch loss: 0.6434, accuracy: 66.6950\n",
      "Epoch: 17, Phase: validate, epoch loss: 0.6418, accuracy: 67.0800\n",
      "Epoch: 18, Phase: train, epoch loss: 0.6418, accuracy: 66.7600\n",
      "Epoch: 18, Phase: validate, epoch loss: 0.6402, accuracy: 67.0000\n",
      "Epoch: 19, Phase: train, epoch loss: 0.6403, accuracy: 66.8000\n",
      "Epoch: 19, Phase: validate, epoch loss: 0.6387, accuracy: 67.0000\n",
      "Epoch: 20, Phase: train, epoch loss: 0.6388, accuracy: 66.8300\n",
      "Epoch: 20, Phase: validate, epoch loss: 0.6373, accuracy: 67.4400\n",
      "Epoch: 21, Phase: train, epoch loss: 0.6374, accuracy: 67.0250\n",
      "Epoch: 21, Phase: validate, epoch loss: 0.6359, accuracy: 67.4000\n",
      "Epoch: 22, Phase: train, epoch loss: 0.6360, accuracy: 67.1700\n",
      "Epoch: 22, Phase: validate, epoch loss: 0.6346, accuracy: 67.3800\n",
      "Epoch: 23, Phase: train, epoch loss: 0.6347, accuracy: 67.2150\n",
      "Epoch: 23, Phase: validate, epoch loss: 0.6333, accuracy: 67.4800\n",
      "Epoch: 24, Phase: train, epoch loss: 0.6334, accuracy: 67.2250\n",
      "Epoch: 24, Phase: validate, epoch loss: 0.6321, accuracy: 67.6200\n",
      "Epoch: 25, Phase: train, epoch loss: 0.6321, accuracy: 67.2800\n",
      "Epoch: 25, Phase: validate, epoch loss: 0.6309, accuracy: 67.7000\n",
      "Epoch: 26, Phase: train, epoch loss: 0.6309, accuracy: 67.3500\n",
      "Epoch: 26, Phase: validate, epoch loss: 0.6297, accuracy: 67.5000\n",
      "Epoch: 27, Phase: train, epoch loss: 0.6297, accuracy: 67.4650\n",
      "Epoch: 27, Phase: validate, epoch loss: 0.6286, accuracy: 67.8600\n",
      "Epoch: 28, Phase: train, epoch loss: 0.6285, accuracy: 67.4850\n",
      "Epoch: 28, Phase: validate, epoch loss: 0.6275, accuracy: 67.7000\n",
      "Epoch: 29, Phase: train, epoch loss: 0.6274, accuracy: 67.6200\n",
      "Epoch: 29, Phase: validate, epoch loss: 0.6264, accuracy: 68.0200\n",
      "Epoch: 30, Phase: train, epoch loss: 0.6263, accuracy: 67.6300\n",
      "Epoch: 30, Phase: validate, epoch loss: 0.6254, accuracy: 68.1200\n",
      "Epoch: 31, Phase: train, epoch loss: 0.6253, accuracy: 67.7100\n",
      "Epoch: 31, Phase: validate, epoch loss: 0.6244, accuracy: 68.0800\n",
      "Epoch: 32, Phase: train, epoch loss: 0.6243, accuracy: 67.7350\n",
      "Epoch: 32, Phase: validate, epoch loss: 0.6234, accuracy: 68.1800\n",
      "Epoch: 33, Phase: train, epoch loss: 0.6232, accuracy: 67.7100\n",
      "Epoch: 33, Phase: validate, epoch loss: 0.6225, accuracy: 68.2000\n",
      "Epoch: 34, Phase: train, epoch loss: 0.6223, accuracy: 67.8750\n",
      "Epoch: 34, Phase: validate, epoch loss: 0.6216, accuracy: 67.9800\n",
      "Epoch: 35, Phase: train, epoch loss: 0.6213, accuracy: 67.9400\n",
      "Epoch: 35, Phase: validate, epoch loss: 0.6207, accuracy: 67.9800\n",
      "Epoch: 36, Phase: train, epoch loss: 0.6204, accuracy: 67.9850\n",
      "Epoch: 36, Phase: validate, epoch loss: 0.6198, accuracy: 68.1200\n",
      "Epoch: 37, Phase: train, epoch loss: 0.6195, accuracy: 68.0750\n",
      "Epoch: 37, Phase: validate, epoch loss: 0.6189, accuracy: 68.1000\n",
      "Epoch: 38, Phase: train, epoch loss: 0.6186, accuracy: 68.0700\n",
      "Epoch: 38, Phase: validate, epoch loss: 0.6181, accuracy: 68.2000\n",
      "Epoch: 39, Phase: train, epoch loss: 0.6177, accuracy: 68.1450\n",
      "Epoch: 39, Phase: validate, epoch loss: 0.6174, accuracy: 68.0800\n",
      "Epoch: 40, Phase: train, epoch loss: 0.6169, accuracy: 68.2850\n",
      "Epoch: 40, Phase: validate, epoch loss: 0.6165, accuracy: 68.4600\n",
      "Epoch: 41, Phase: train, epoch loss: 0.6160, accuracy: 68.2450\n",
      "Epoch: 41, Phase: validate, epoch loss: 0.6157, accuracy: 68.2800\n",
      "Epoch: 42, Phase: train, epoch loss: 0.6152, accuracy: 68.2950\n",
      "Epoch: 42, Phase: validate, epoch loss: 0.6149, accuracy: 68.2600\n",
      "Epoch: 43, Phase: train, epoch loss: 0.6144, accuracy: 68.3000\n",
      "Epoch: 43, Phase: validate, epoch loss: 0.6142, accuracy: 68.3200\n",
      "Epoch: 44, Phase: train, epoch loss: 0.6136, accuracy: 68.3900\n",
      "Epoch: 44, Phase: validate, epoch loss: 0.6135, accuracy: 68.4000\n",
      "Epoch: 45, Phase: train, epoch loss: 0.6129, accuracy: 68.4450\n",
      "Epoch: 45, Phase: validate, epoch loss: 0.6128, accuracy: 68.3000\n",
      "Epoch: 46, Phase: train, epoch loss: 0.6121, accuracy: 68.3600\n",
      "Epoch: 46, Phase: validate, epoch loss: 0.6121, accuracy: 68.5000\n",
      "Epoch: 47, Phase: train, epoch loss: 0.6114, accuracy: 68.5000\n",
      "Epoch: 47, Phase: validate, epoch loss: 0.6114, accuracy: 68.5000\n",
      "Epoch: 48, Phase: train, epoch loss: 0.6106, accuracy: 68.5400\n",
      "Epoch: 48, Phase: validate, epoch loss: 0.6107, accuracy: 68.4400\n",
      "Epoch: 49, Phase: train, epoch loss: 0.6099, accuracy: 68.5600\n",
      "Epoch: 49, Phase: validate, epoch loss: 0.6100, accuracy: 68.5200\n",
      "Best val dice loss: 0.610033, Best Accuracy: 68.520000\n"
     ]
    },
    {
     "ename": "TypeError",
     "evalue": "'NoneType' object is not iterable",
     "output_type": "error",
     "traceback": [
      "\u001b[0;31m---------------------------------------------------------------------------\u001b[0m",
      "\u001b[0;31mTypeError\u001b[0m                                 Traceback (most recent call last)",
      "\u001b[0;32m<ipython-input-36-ec7b4dc12534>\u001b[0m in \u001b[0;36m<module>\u001b[0;34m()\u001b[0m\n\u001b[1;32m     10\u001b[0m \u001b[0;34m\u001b[0m\u001b[0m\n\u001b[1;32m     11\u001b[0m \u001b[0;34m\u001b[0m\u001b[0m\n\u001b[0;32m---> 12\u001b[0;31m \u001b[0mm_save\u001b[0m\u001b[0;34m,\u001b[0m \u001b[0mloss_hists\u001b[0m \u001b[0;34m=\u001b[0m \u001b[0mtraining\u001b[0m\u001b[0;34m(\u001b[0m\u001b[0mmodel\u001b[0m\u001b[0;34m,\u001b[0m\u001b[0mcriterion\u001b[0m\u001b[0;34m,\u001b[0m\u001b[0moptimizer\u001b[0m\u001b[0;34m,\u001b[0m\u001b[0;34m\"model2_tokenize1\"\u001b[0m\u001b[0;34m,\u001b[0m\u001b[0;36m50\u001b[0m\u001b[0;34m,\u001b[0m\u001b[0;34m\"loss_hist2_t1\"\u001b[0m\u001b[0;34m)\u001b[0m\u001b[0;34m\u001b[0m\u001b[0m\n\u001b[0m",
      "\u001b[0;31mTypeError\u001b[0m: 'NoneType' object is not iterable"
     ]
    }
   ],
   "source": [
    "emb_dim = 200\n",
    "model = BagOfWords(len(id2token), emb_dim).cuda()\n",
    "# model = nn.DataParallel(model)\n",
    "learning_rate = 0.01\n",
    "# num_epochs = 100\n",
    "\n",
    "criterion = torch.nn.CrossEntropyLoss()  \n",
    "# optimizer = torch.optim.Adam(model.parameters(), lr = learning_rate)\n",
    "optimizer = torch.optim.SGD(model.parameters(),lr=learning_rate)\n",
    "\n",
    "\n",
    "training(model,criterion,optimizer,\"model2_tokenize1\",50,\"loss_hist2_t1\")"
   ]
  },
  {
   "cell_type": "code",
   "execution_count": 43,
   "metadata": {},
   "outputs": [
    {
     "name": "stderr",
     "output_type": "stream",
     "text": [
      "/home/cvh255/pyenv/py3.6.3/lib/python3.6/site-packages/ipykernel_launcher.py:31: UserWarning: invalid index of a 0-dim tensor. This will be an error in PyTorch 0.5. Use tensor.item() to convert a 0-dim tensor to a Python number\n"
     ]
    },
    {
     "name": "stdout",
     "output_type": "stream",
     "text": [
      "Epoch: 0, Phase: train, epoch loss: 0.6092, accuracy: 68.6300\n",
      "Epoch: 0, Phase: validate, epoch loss: 0.6094, accuracy: 68.5400\n"
     ]
    },
    {
     "name": "stderr",
     "output_type": "stream",
     "text": [
      "/home/cvh255/pyenv/py3.6.3/lib/python3.6/site-packages/torch/serialization.py:241: UserWarning: Couldn't retrieve source code for container of type BagOfWords. It won't be checked for correctness upon loading.\n",
      "  \"type \" + obj.__name__ + \". It won't be checked \"\n"
     ]
    },
    {
     "name": "stdout",
     "output_type": "stream",
     "text": [
      "Epoch: 1, Phase: train, epoch loss: 0.6085, accuracy: 68.7000\n",
      "Epoch: 1, Phase: validate, epoch loss: 0.6088, accuracy: 68.3600\n",
      "Epoch: 2, Phase: train, epoch loss: 0.6079, accuracy: 68.7000\n",
      "Epoch: 2, Phase: validate, epoch loss: 0.6081, accuracy: 68.4600\n",
      "Epoch: 3, Phase: train, epoch loss: 0.6072, accuracy: 68.8200\n",
      "Epoch: 3, Phase: validate, epoch loss: 0.6076, accuracy: 68.3800\n",
      "Epoch: 4, Phase: train, epoch loss: 0.6065, accuracy: 68.7050\n",
      "Epoch: 4, Phase: validate, epoch loss: 0.6069, accuracy: 68.5400\n",
      "Epoch: 5, Phase: train, epoch loss: 0.6059, accuracy: 68.8650\n",
      "Epoch: 5, Phase: validate, epoch loss: 0.6063, accuracy: 68.5200\n",
      "Epoch: 6, Phase: train, epoch loss: 0.6053, accuracy: 68.8800\n",
      "Epoch: 6, Phase: validate, epoch loss: 0.6058, accuracy: 68.4000\n",
      "Epoch: 7, Phase: train, epoch loss: 0.6046, accuracy: 68.8800\n",
      "Epoch: 7, Phase: validate, epoch loss: 0.6052, accuracy: 68.3800\n",
      "Epoch: 8, Phase: train, epoch loss: 0.6040, accuracy: 68.8850\n",
      "Epoch: 8, Phase: validate, epoch loss: 0.6046, accuracy: 68.5000\n",
      "Epoch: 9, Phase: train, epoch loss: 0.6034, accuracy: 69.0200\n",
      "Epoch: 9, Phase: validate, epoch loss: 0.6040, accuracy: 68.5800\n",
      "Epoch: 10, Phase: train, epoch loss: 0.6028, accuracy: 68.9750\n",
      "Epoch: 10, Phase: validate, epoch loss: 0.6035, accuracy: 68.3600\n",
      "Epoch: 11, Phase: train, epoch loss: 0.6022, accuracy: 69.1300\n",
      "Epoch: 11, Phase: validate, epoch loss: 0.6030, accuracy: 68.6000\n",
      "Epoch: 12, Phase: train, epoch loss: 0.6017, accuracy: 69.2250\n",
      "Epoch: 12, Phase: validate, epoch loss: 0.6024, accuracy: 68.6800\n",
      "Epoch: 13, Phase: train, epoch loss: 0.6011, accuracy: 69.1450\n",
      "Epoch: 13, Phase: validate, epoch loss: 0.6019, accuracy: 68.7000\n",
      "Epoch: 14, Phase: train, epoch loss: 0.6005, accuracy: 69.1750\n",
      "Epoch: 14, Phase: validate, epoch loss: 0.6014, accuracy: 68.5200\n",
      "Epoch: 15, Phase: train, epoch loss: 0.6000, accuracy: 69.2750\n",
      "Epoch: 15, Phase: validate, epoch loss: 0.6009, accuracy: 68.6200\n",
      "Epoch: 16, Phase: train, epoch loss: 0.5994, accuracy: 69.2900\n",
      "Epoch: 16, Phase: validate, epoch loss: 0.6004, accuracy: 68.5800\n",
      "Epoch: 17, Phase: train, epoch loss: 0.5989, accuracy: 69.3500\n",
      "Epoch: 17, Phase: validate, epoch loss: 0.6000, accuracy: 68.6600\n",
      "Epoch: 18, Phase: train, epoch loss: 0.5983, accuracy: 69.3750\n",
      "Epoch: 18, Phase: validate, epoch loss: 0.5995, accuracy: 68.7000\n",
      "Epoch: 19, Phase: train, epoch loss: 0.5978, accuracy: 69.4250\n",
      "Epoch: 19, Phase: validate, epoch loss: 0.5990, accuracy: 68.8600\n",
      "Epoch: 20, Phase: train, epoch loss: 0.5973, accuracy: 69.4550\n",
      "Epoch: 20, Phase: validate, epoch loss: 0.5985, accuracy: 68.7200\n",
      "Epoch: 21, Phase: train, epoch loss: 0.5968, accuracy: 69.6000\n",
      "Epoch: 21, Phase: validate, epoch loss: 0.5981, accuracy: 68.8000\n",
      "Epoch: 22, Phase: train, epoch loss: 0.5963, accuracy: 69.5400\n",
      "Epoch: 22, Phase: validate, epoch loss: 0.5976, accuracy: 68.7800\n",
      "Epoch: 23, Phase: train, epoch loss: 0.5958, accuracy: 69.5650\n",
      "Epoch: 23, Phase: validate, epoch loss: 0.5972, accuracy: 68.9000\n",
      "Epoch: 24, Phase: train, epoch loss: 0.5953, accuracy: 69.6250\n",
      "Epoch: 24, Phase: validate, epoch loss: 0.5967, accuracy: 68.8000\n",
      "Epoch: 25, Phase: train, epoch loss: 0.5948, accuracy: 69.5950\n",
      "Epoch: 25, Phase: validate, epoch loss: 0.5963, accuracy: 68.8400\n",
      "Epoch: 26, Phase: train, epoch loss: 0.5943, accuracy: 69.7050\n",
      "Epoch: 26, Phase: validate, epoch loss: 0.5959, accuracy: 68.9200\n",
      "Epoch: 27, Phase: train, epoch loss: 0.5938, accuracy: 69.6650\n",
      "Epoch: 27, Phase: validate, epoch loss: 0.5954, accuracy: 69.0000\n",
      "Epoch: 28, Phase: train, epoch loss: 0.5934, accuracy: 69.7950\n",
      "Epoch: 28, Phase: validate, epoch loss: 0.5950, accuracy: 68.7600\n",
      "Epoch: 29, Phase: train, epoch loss: 0.5929, accuracy: 69.7450\n",
      "Epoch: 29, Phase: validate, epoch loss: 0.5945, accuracy: 68.9600\n",
      "Epoch: 30, Phase: train, epoch loss: 0.5924, accuracy: 69.8400\n",
      "Epoch: 30, Phase: validate, epoch loss: 0.5941, accuracy: 68.8200\n",
      "Epoch: 31, Phase: train, epoch loss: 0.5920, accuracy: 69.7750\n",
      "Epoch: 31, Phase: validate, epoch loss: 0.5937, accuracy: 68.8000\n",
      "Epoch: 32, Phase: train, epoch loss: 0.5915, accuracy: 69.8500\n",
      "Epoch: 32, Phase: validate, epoch loss: 0.5934, accuracy: 68.9600\n",
      "Epoch: 33, Phase: train, epoch loss: 0.5911, accuracy: 69.8950\n",
      "Epoch: 33, Phase: validate, epoch loss: 0.5929, accuracy: 68.8400\n",
      "Epoch: 34, Phase: train, epoch loss: 0.5906, accuracy: 69.8950\n",
      "Epoch: 34, Phase: validate, epoch loss: 0.5925, accuracy: 68.9800\n",
      "Epoch: 35, Phase: train, epoch loss: 0.5902, accuracy: 69.9300\n",
      "Epoch: 35, Phase: validate, epoch loss: 0.5921, accuracy: 69.0000\n",
      "Epoch: 36, Phase: train, epoch loss: 0.5898, accuracy: 69.9150\n",
      "Epoch: 36, Phase: validate, epoch loss: 0.5918, accuracy: 68.9600\n",
      "Epoch: 37, Phase: train, epoch loss: 0.5893, accuracy: 69.9750\n",
      "Epoch: 37, Phase: validate, epoch loss: 0.5914, accuracy: 69.0800\n",
      "Epoch: 38, Phase: train, epoch loss: 0.5889, accuracy: 69.9850\n",
      "Epoch: 38, Phase: validate, epoch loss: 0.5910, accuracy: 69.0600\n",
      "Epoch: 39, Phase: train, epoch loss: 0.5885, accuracy: 70.0600\n",
      "Epoch: 39, Phase: validate, epoch loss: 0.5907, accuracy: 69.1600\n",
      "Epoch: 40, Phase: train, epoch loss: 0.5881, accuracy: 69.9300\n",
      "Epoch: 40, Phase: validate, epoch loss: 0.5903, accuracy: 69.2000\n",
      "Epoch: 41, Phase: train, epoch loss: 0.5877, accuracy: 70.0350\n",
      "Epoch: 41, Phase: validate, epoch loss: 0.5899, accuracy: 69.0600\n",
      "Epoch: 42, Phase: train, epoch loss: 0.5873, accuracy: 70.0500\n",
      "Epoch: 42, Phase: validate, epoch loss: 0.5896, accuracy: 69.2200\n",
      "Epoch: 43, Phase: train, epoch loss: 0.5869, accuracy: 70.1500\n",
      "Epoch: 43, Phase: validate, epoch loss: 0.5892, accuracy: 69.0200\n",
      "Epoch: 44, Phase: train, epoch loss: 0.5865, accuracy: 70.1050\n",
      "Epoch: 44, Phase: validate, epoch loss: 0.5888, accuracy: 69.2000\n",
      "Epoch: 45, Phase: train, epoch loss: 0.5861, accuracy: 70.1400\n",
      "Epoch: 45, Phase: validate, epoch loss: 0.5885, accuracy: 69.2000\n",
      "Epoch: 46, Phase: train, epoch loss: 0.5857, accuracy: 70.1850\n",
      "Epoch: 46, Phase: validate, epoch loss: 0.5882, accuracy: 69.3200\n",
      "Epoch: 47, Phase: train, epoch loss: 0.5853, accuracy: 70.2900\n",
      "Epoch: 47, Phase: validate, epoch loss: 0.5879, accuracy: 69.5800\n",
      "Epoch: 48, Phase: train, epoch loss: 0.5849, accuracy: 70.2350\n",
      "Epoch: 48, Phase: validate, epoch loss: 0.5875, accuracy: 69.1000\n",
      "Epoch: 49, Phase: train, epoch loss: 0.5845, accuracy: 70.2550\n",
      "Epoch: 49, Phase: validate, epoch loss: 0.5871, accuracy: 69.1400\n",
      "Best val dice loss: 0.587120, Best Accuracy: 69.140000\n"
     ]
    }
   ],
   "source": [
    "training(model,criterion,optimizer,\"model2_tokenize1_2\",50,\"loss_hist2_t1_2\")"
   ]
  },
  {
   "cell_type": "code",
   "execution_count": 4,
   "metadata": {},
   "outputs": [],
   "source": [
    "train_acc = [68.6300,68.8650,68.9750,69.2750,69.4550,69.5950,69.8400,69.9300,69.9300,70.1400,70.2550]\n",
    "val_acc = [68.5400,68.5200,68.3600,68.6200,68.7200,68.8400,68.8200,69.0000,69.2000,69.2000,69.1400]"
   ]
  },
  {
   "cell_type": "code",
   "execution_count": 5,
   "metadata": {},
   "outputs": [],
   "source": [
    "import matplotlib.pyplot as plt"
   ]
  },
  {
   "cell_type": "code",
   "execution_count": 44,
   "metadata": {},
   "outputs": [],
   "source": [
    "loss_hists = pickle.load(open(\"loss_hist2_t1\",'rb'))"
   ]
  },
  {
   "cell_type": "code",
   "execution_count": 45,
   "metadata": {},
   "outputs": [
    {
     "data": {
      "image/png": "[encoded data removed]",
      "text/plain": [
       "<matplotlib.figure.Figure at 0x2b162ff2c4e0>"
      ]
     },
     "metadata": {},
     "output_type": "display_data"
    }
   ],
   "source": [
    "plt.plot(loss_hists['train'],label=\"train loss\")\n",
    "plt.plot(loss_hists['validate'],label=\"validation loss\")\n",
    "plt.legend()\n",
    "plt.show()"
   ]
  },
  {
   "cell_type": "code",
   "execution_count": 8,
   "metadata": {},
   "outputs": [
    {
     "data": {
      "image/png": "[encoded data removed]",
      "text/plain": [
       "<matplotlib.figure.Figure at 0x2b3fd3c64828>"
      ]
     },
     "metadata": {},
     "output_type": "display_data"
    }
   ],
   "source": [
    "plt.plot(train_acc,label=\"train accuracy\")\n",
    "plt.plot(val_acc,label=\"val_accuracy\")\n",
    "plt.xticks([0,5,10,15,20,25,30,35,40,45,50])\n",
    "plt.legend()\n",
    "plt.show()"
   ]
  },
  {
   "cell_type": "code",
   "execution_count": 42,
   "metadata": {},
   "outputs": [],
   "source": [
    "# pickle.dump(loss_hists,open(\"loss_hist1\",'wb'))"
   ]
  },
  {
   "cell_type": "code",
   "execution_count": null,
   "metadata": {},
   "outputs": [],
   "source": []
  }
 ],
 "metadata": {
  "kernelspec": {
   "display_name": "Python 3",
   "language": "python",
   "name": "python3"
  },
  "language_info": {
   "codemirror_mode": {
    "name": "ipython",
    "version": 3
   },
   "file_extension": ".py",
   "mimetype": "text/x-python",
   "name": "python",
   "nbconvert_exporter": "python",
   "pygments_lexer": "ipython3",
   "version": "3.6.3"
  }
 },
 "nbformat": 4,
 "nbformat_minor": 2
}
